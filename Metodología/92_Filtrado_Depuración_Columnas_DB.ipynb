{
 "cells": [
  {
   "cell_type": "code",
   "execution_count": 1,
   "id": "363ead67-dea5-4e00-94cb-10b8538717d8",
   "metadata": {},
   "outputs": [],
   "source": [
    "import pandas as pd\n",
    "import geopandas as gpd\n",
    "\n",
    "# ### RUTA MET LOC - ALEJANDRO (local)\n",
    "# #ruta gpkg fin\n",
    "# MAPA_TIPO_ruta = r\"C:\\Users\\Alejandro\\Downloads\\DATA\\Tratados\\NAC\\DENUE_LOC_NAC\\Loc_Tipologías_NAC.gpkg\"\n",
    "# # Leer la capa existente del GeoPackage base\n",
    "# MAPA_TIPO_gdf = gpd.read_file(MAPA_TIPO_ruta, layer='Loc_SubTipologias_ue')\n",
    "\n",
    "### RUTA MZN EQ - ALEJANDRO (SSD)\n",
    "#ruta gpkg fin\n",
    "MAPA_TIPO_ruta  = r\"Z:\\VOCES\\DATA\\Tratados\\NAC\\INT_MZN_NAC\\Mzn_Tipologías_NAC_ImpEq_BufferB.gpkg\"\n",
    "capa_entrada = 'Mzn_Subtipologias_UeEQ'\n",
    "capa_salida = 'Mzn_Subtipologias_UeEQ_filtrado'\n",
    "\n",
    "# Leer la capa existente del GeoPackage base\n",
    "MAPA_TIPO_gdf = gpd.read_file(MAPA_TIPO_ruta, layer=capa_entrada)"
   ]
  },
  {
   "cell_type": "markdown",
   "id": "0a7df36e-3a05-4a1e-82f9-f9d5da1f3405",
   "metadata": {
    "jp-MarkdownHeadingCollapsed": true
   },
   "source": [
    "## Columnas"
   ]
  },
  {
   "cell_type": "code",
   "execution_count": 14,
   "id": "d25fa9fc-f19b-4161-abe7-04326c45d99d",
   "metadata": {},
   "outputs": [
    {
     "name": "stdout",
     "output_type": "stream",
     "text": [
      "['CVEGEO', 'POPTOT2010', 'POPTOT2020', 'VIVTOT2010', 'VIVTOT2020', 'TVIVHAB2010', 'TVIVHAB2020', 'TVIVPAR2010', 'TVIVPAR2020', 'TVIVPARHAB2010', 'TVIVPARHAB2020', 'VIVPAR_HAB2010', 'VIVPAR_HAB2020', 'VIVPAR_UT2010', 'VIVPAR_UT2020', 'OCUPVIVPAR2010', 'OCUPVIVPAR2020', 'VIVPAR_DES2010', 'VIVPAR_DES2020', 'VIV1C2010', 'VIV1C2020', 'VIV2C2010', 'VIV2C2020', 'VIV3C2010', 'VIV3C2020', 'CVE_ENT', 'CVE_MUN', 'CVE_LOC', 'CVE_AGEB', 'CVE_MZA', 'AMBITO', 'TIPOMZA', 'NOMGEO', 'index_right', 'CALIF_CLAS', 'POPTOT_MZNA_2020', 'VIVTOT_MZNA_2020', 'TVIVHAB_MZNA_2020', 'TVIVPAR_MZNA_2020', 'TVIVPARHAB_MZNA_2020', 'VIVPAR_HAB_MZNA_2020', 'VIVPAR_UT_MZNA_2020', 'OCUPVIVPAR_MZNA_2020', 'VIVPAR_DES_MZNA_2020', 'VIV1C_MZNA_2020', 'VIV2C_MZNA_2020', 'VIV3C_MZNA_2020', 'POPTOT_ITER_2020', 'VIVTOT_ITER_2020', 'TVIVHAB_ITER_2020', 'TVIVPAR_ITER_2020', 'TVIVPARHAB_ITER_2020', 'VIVPAR_HAB_ITER_2020', 'VIVPAR_UT_ITER_2020', 'OCUPVIVPAR_ITER_2020', 'VIVPAR_DES_ITER_2020', 'VIV1C_ITER_2020', 'VIV2C_ITER_2020', 'VIV3C_ITER_2020', 'POPTOT_MZNA_2010', 'VIVTOT_MZNA_2010', 'TVIVHAB_MZNA_2010', 'TVIVPAR_MZNA_2010', 'TVIVPARHAB_MZNA_2010', 'VIVPAR_HAB_MZNA_2010', 'VIVPAR_UT_MZNA_2010', 'OCUPVIVPAR_MZNA_2010', 'VIVPAR_DES_MZNA_2010', 'VIV1C_MZNA_2010', 'VIV2C_MZNA_2010', 'VIV3C_MZNA_2010', 'POPTOT_ITER_2010', 'VIVTOT_ITER_2010', 'TVIVHAB_ITER_2010', 'TVIVPAR_ITER_2010', 'TVIVPARHAB_ITER_2010', 'VIVPAR_HAB_ITER_2010', 'VIVPAR_UT_ITER_2010', 'OCUPVIVPAR_ITER_2010', 'VIVPAR_DES_ITER_2010', 'VIV1C_ITER_2010', 'VIV2C_ITER_2010', 'VIV3C_ITER_2010', 'CVEMUN', 'CVE_MET', 'NOM_MET', 'TIPO_MET', 'TIPO_MUN', 'area_ha', 'DESHABITACION', 'DIFPOP', 'DIFVIV', 'RELPOP', 'RELVIV', 'CVEPOP', 'CVEVIV', 'CVE', 'TIPOLOGIA', 'DENS_POP10', 'DENS_POP20', 'DENS_VIV10', 'DENS_VIV20', 'CUARTOS2010', 'CUARTOS2020', 'CPERC2010', 'CPERC2020', 'HABXVIV2010', 'HABXVIV2020', 'R_DESHAB', 'SUBTIPOLOGÍA', 'UE_10', 'Emp_10', 'UE_20', 'Emp_20', 'TAMAÑO', 'TASA_EMP_MUN', 'DIF_EMP', 'DIF_UEC', 'REL_EMP', 'REL_UEC', 'CVE_EMP', 'CVE_UEC', 'CVE_ue', 'TIPOLOGIA_ue', 'DENS_EMP20', 'DENS_EMP10', 'DENS_UEC20', 'DENS_UEC10', 'R_TAM', 'SUBTIPOLOGÍA_ue', 'num_edu', 'num_sal', 'num_rec', 'num_ser', 'IMP_EDU', 'IMP_EDU_B', 'IMP_EDU_C', 'IMP_SAL', 'IMP_SAL_B', 'IMP_SAL_C', 'IMP_REC', 'IMP_REC_B', 'IMP_REC_C', 'IMP_SER', 'IMP_SER_B', 'IMP_SER_C', 'FILTRADO', 'CVE_EDU', 'CVE_SAL', 'CVE_REC', 'CVE_SER', 'CVE_EQ', 'CVE_EDU_B', 'CVE_SAL_B', 'CVE_REC_B', 'CVE_SER_B', 'CVE_EQ_B', 'CVE_EDU_C', 'CVE_SAL_C', 'CVE_REC_C', 'CVE_SER_C', 'CVE_EQ_C', 'geometry']\n"
     ]
    }
   ],
   "source": [
    "# Verificar columnas del DF, para ver columnas a sumar, y columnas a recalcular\n",
    "\n",
    "# Asegúrate de que pandas muestre todas las columnas y expanda el ancho de la visualización\n",
    "pd.set_option('display.max_columns', None)  # Muestra todas las columnas\n",
    "pd.set_option('display.max_colwidth', None)  # No limite el ancho de las columnas\n",
    "pd.set_option('display.expand_frame_repr', False)  # Evita el corte de DataFrames grandes\n",
    "\n",
    "# # Mostrar las columnas del DataFrame\n",
    "# print(MAPA_TIPO_gdf.columns)\n",
    "\n",
    "# Si prefieres ver las columnas como una lista\n",
    "columnas = list(MAPA_TIPO_gdf.columns)\n",
    "print(columnas)\n",
    "\n",
    "# Restablecer las opciones de pandas a la configuración predeterminada\n",
    "pd.reset_option('display.max_columns')\n",
    "pd.reset_option('display.max_colwidth')\n",
    "pd.reset_option('display.expand_frame_repr')\n"
   ]
  },
  {
   "cell_type": "code",
   "execution_count": 16,
   "id": "4b5aa396-2733-4c33-8bcf-7f310c1b2a43",
   "metadata": {},
   "outputs": [],
   "source": [
    "MAPA_TIPO_gdf = MAPA_TIPO_gdf.drop(columns=[ 'POPTOT_MZNA_2020', 'VIVTOT_MZNA_2020', 'TVIVHAB_MZNA_2020', 'TVIVPAR_MZNA_2020', \n",
    "                                              'TVIVPARHAB_MZNA_2020', 'VIVPAR_HAB_MZNA_2020', 'VIVPAR_UT_MZNA_2020',\n",
    "                                              'OCUPVIVPAR_MZNA_2020', 'VIVPAR_DES_MZNA_2020', 'VIV1C_MZNA_2020', 'VIV2C_MZNA_2020',\n",
    "                                              'VIV3C_MZNA_2020', 'POPTOT_ITER_2020', 'VIVTOT_ITER_2020', 'TVIVHAB_ITER_2020',\n",
    "                                              'TVIVPAR_ITER_2020', 'TVIVPARHAB_ITER_2020', 'VIVPAR_HAB_ITER_2020', 'VIVPAR_UT_ITER_2020',\n",
    "                                              'OCUPVIVPAR_ITER_2020', 'VIVPAR_DES_ITER_2020', 'VIV1C_ITER_2020', 'VIV2C_ITER_2020',\n",
    "                                              'VIV3C_ITER_2020', 'POPTOT_MZNA_2010', 'VIVTOT_MZNA_2010', 'TVIVHAB_MZNA_2010', \n",
    "                                              'TVIVPAR_MZNA_2010', 'TVIVPARHAB_MZNA_2010', 'VIVPAR_HAB_MZNA_2010', 'VIVPAR_UT_MZNA_2010', \n",
    "                                              'OCUPVIVPAR_MZNA_2010', 'VIVPAR_DES_MZNA_2010', 'VIV1C_MZNA_2010', 'VIV2C_MZNA_2010',\n",
    "                                              'VIV3C_MZNA_2010', 'POPTOT_ITER_2010', 'VIVTOT_ITER_2010', 'TVIVHAB_ITER_2010',\n",
    "                                              'TVIVPAR_ITER_2010', 'TVIVPARHAB_ITER_2010', 'VIVPAR_HAB_ITER_2010', 'VIVPAR_UT_ITER_2010',\n",
    "                                              'OCUPVIVPAR_ITER_2010', 'VIVPAR_DES_ITER_2010', 'VIV1C_ITER_2010', 'VIV2C_ITER_2010', 'VIV3C_ITER_2010'])"
   ]
  },
  {
   "cell_type": "markdown",
   "id": "0d44cd81-54db-4d3d-ad10-c6238dc1ee73",
   "metadata": {},
   "source": [
    "## Filtrado"
   ]
  },
  {
   "cell_type": "code",
   "execution_count": 2,
   "id": "04ddb999-e7f8-4f62-961b-8e5112133780",
   "metadata": {},
   "outputs": [],
   "source": [
    "#Valor del filtro\n",
    "filtro = 0.125\n",
    "\n",
    "# Creación de campos y llenado de información\n",
    "MAPA_TIPO_gdf['FILTRADO'] = MAPA_TIPO_gdf['VIVTOT2020'] / MAPA_TIPO_gdf['area_ha']**2\n",
    "\n",
    "# Filtrado de información\n",
    "MAPA_TIPO_gdf_FILTRO = MAPA_TIPO_gdf[MAPA_TIPO_gdf['FILTRADO'] >= filtro]"
   ]
  },
  {
   "cell_type": "markdown",
   "id": "0ef05010-52f1-46c6-b823-97337cafd6e5",
   "metadata": {},
   "source": [
    "## Guardado"
   ]
  },
  {
   "cell_type": "code",
   "execution_count": 20,
   "id": "3f17feba-719c-4cf2-9b46-e7d052880b9d",
   "metadata": {},
   "outputs": [],
   "source": [
    "#Guardar base de datos filtrada\n",
    "MAPA_TIPO_gdf_FILTRO.to_file(MAPA_TIPO_ruta, layer=capa_salida, driver=\"GPKG\")"
   ]
  }
 ],
 "metadata": {
  "kernelspec": {
   "display_name": "Python 3 (ipykernel)",
   "language": "python",
   "name": "python3"
  },
  "language_info": {
   "codemirror_mode": {
    "name": "ipython",
    "version": 3
   },
   "file_extension": ".py",
   "mimetype": "text/x-python",
   "name": "python",
   "nbconvert_exporter": "python",
   "pygments_lexer": "ipython3",
   "version": "3.12.7"
  }
 },
 "nbformat": 4,
 "nbformat_minor": 5
}
