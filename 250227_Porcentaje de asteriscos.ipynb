{
 "cells": [
  {
   "cell_type": "code",
   "execution_count": 1,
   "id": "297df692-6646-4681-af3b-3d1050f7706f",
   "metadata": {},
   "outputs": [],
   "source": [
    "import pandas as pd"
   ]
  },
  {
   "cell_type": "code",
   "execution_count": 2,
   "id": "80623b37-8181-43c8-880f-e17e2128a2f6",
   "metadata": {},
   "outputs": [],
   "source": [
    "# Cargar los archivos CSV\n",
    "archivo_2010 = r\"C:\\Users\\quesa\\Desktop\\Ejercicio\\Base de Datos Censal\\Sin modificar\\MZNA_2010_NAC.csv\"\n",
    "archivo_2020 = r\"C:\\Users\\quesa\\Desktop\\Ejercicio\\Base de Datos Censal\\Sin modificar\\MZNA_2020_NAC.csv\"\n",
    "archivo_metro = r\"C:\\Users\\quesa\\Desktop\\Ejercicio\\ClavesMetro.csv\"\n",
    "\n",
    "MZNA_2010_df = pd.read_csv(archivo_2010, dtype={'CVEGEO': str})\n",
    "MZNA_2020_df = pd.read_csv(archivo_2020, dtype={'CVEGEO': str})\n",
    "CVE_METRO_df = pd.read_csv(archivo_metro, dtype={'CVE_MET': str, 'CVE_MUN': str})"
   ]
  },
  {
   "cell_type": "code",
   "execution_count": null,
   "id": "9129ea62-9978-47e3-841d-04da8c4597a1",
   "metadata": {},
   "outputs": [],
   "source": [
    "# Crear campo CVEMUN para hacer la unión (combinación de CVE_ENT y CVE_MUN en el archivo de metrópoli)\n",
    "CVE_METRO_df['CVEMUN'] = CVE_METRO_df['CVE_ENT'] + CVE_METRO_df['CVE_MUN']\n",
    "\n",
    "# Unir los datos de 2010 y 2020 con el archivo de metrópoli\n",
    "MZNA_2010_df = MZNA_2010_df.merge(CVE_METRO_df[['CVEMUN', 'CVE_MET', 'NOM_MET', 'TIPO_MET']], on='CVEMUN', how='left')\n",
    "MZNA_2020_df = MZNA_2020_df.merge(CVE_METRO_df[['CVEMUN', 'CVE_MET', 'NOM_MET', 'TIPO_MET']], on='CVEMUN', how='left')\n",
    "\n",
    "# Verificar los primeros registros para asegurar que la unión se realizó correctamente\n",
    "print(MZNA_2010_df.head())\n",
    "print(MZNA_2020_df.head())"
   ]
  }
 ],
 "metadata": {
  "kernelspec": {
   "display_name": "Python 3 (ipykernel)",
   "language": "python",
   "name": "python3"
  },
  "language_info": {
   "codemirror_mode": {
    "name": "ipython",
    "version": 3
   },
   "file_extension": ".py",
   "mimetype": "text/x-python",
   "name": "python",
   "nbconvert_exporter": "python",
   "pygments_lexer": "ipython3",
   "version": "3.12.7"
  }
 },
 "nbformat": 4,
 "nbformat_minor": 5
}
