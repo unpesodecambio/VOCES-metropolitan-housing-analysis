{
 "cells": [
  {
   "cell_type": "code",
   "execution_count": 1,
   "id": "1e3f4936-2d3a-4412-9a8f-03b4fe1b8ae0",
   "metadata": {},
   "outputs": [],
   "source": [
    "import geopandas as gpd\n",
    "import pandas as pd\n",
    "import numpy as np\n",
    "from shapely.geometry import Point, Polygon\n",
    "\n",
    "def calculate_centroids(gdf):\n",
    "    \"\"\"Calcula los centroides de los polígonos en un GeoDataFrame.\"\"\"\n",
    "    gdf['XCord'] = gdf.centroid.x\n",
    "    gdf['YCord'] = gdf.centroid.y\n",
    "    return gdf\n",
    "\n",
    "def raw_compactness(gdf, field, unit_conversion_ratio, beta=0):\n",
    "    \"\"\"Calcula la compacidad de un conjunto de datos espaciales.\"\"\"\n",
    "    centroids = calculate_centroids(gdf)\n",
    "    sum_g_weighted = 0\n",
    "    sum_population = 0\n",
    "    \n",
    "    for _, rowO in centroids.iterrows():\n",
    "        G = 0\n",
    "        for _, rowD in centroids.iterrows():\n",
    "            dist = unit_conversion_ratio * np.sqrt((rowD['XCord'] - rowO['XCord'])**2 + (rowD['YCord'] - rowO['YCord'])**2)\n",
    "            if dist > 0:\n",
    "                weight = rowD[field] / (np.exp(beta * dist) if beta else dist)\n",
    "                G += weight\n",
    "        sum_g_weighted += G * rowO[field]\n",
    "        sum_population += rowO[field]\n",
    "    \n",
    "    compactness = sum_g_weighted / sum_population if sum_population else 0\n",
    "    return compactness, sum_population\n",
    "\n",
    "def generate_grid(polygon, grid_size):\n",
    "    \"\"\"Genera una malla de puntos sobre un polígono.\"\"\"\n",
    "    minx, miny, maxx, maxy = polygon.bounds\n",
    "    x_coords = np.arange(minx, maxx, grid_size)\n",
    "    y_coords = np.arange(miny, maxy, grid_size)\n",
    "    \n",
    "    points = [Point(x, y) for x in x_coords for y in y_coords if polygon.contains(Point(x, y))]\n",
    "    return gpd.GeoDataFrame(geometry=points, crs=polygon.crs)\n",
    "\n",
    "def normalize_compactness(gdf, field, reference_density, unit_conversion_ratio, grid_size):\n",
    "    \"\"\"Normaliza la compacidad en base a una referencia circular.\"\"\"\n",
    "    total_population = gdf[field].sum()\n",
    "    reference_area = total_population / reference_density\n",
    "    reference_radius = np.sqrt(reference_area / np.pi) / unit_conversion_ratio\n",
    "    \n",
    "    center = gdf.geometry.centroid.unary_union.centroid\n",
    "    reference_circle = center.buffer(reference_radius)\n",
    "    reference_points = generate_grid(reference_circle, grid_size)\n",
    "    reference_points[field] = total_population / len(reference_points)\n",
    "    \n",
    "    ref_compactness, _ = raw_compactness(reference_points, field, unit_conversion_ratio)\n",
    "    case_compactness, _ = raw_compactness(gdf, field, unit_conversion_ratio)\n",
    "    \n",
    "    return case_compactness / ref_compactness if ref_compactness else 0"
   ]
  },
  {
   "cell_type": "code",
   "execution_count": 4,
   "id": "08ff5450-5e99-4ac4-b170-d2f41dbace57",
   "metadata": {},
   "outputs": [],
   "source": [
    "# Ejemplo de uso\n",
    "gdf = gpd.read_file(r\"C:\\Users\\quesa\\Downloads\\prueba\\shp.shp\")"
   ]
  },
  {
   "cell_type": "code",
   "execution_count": null,
   "id": "693050f5-0b57-472e-88f3-55d0a926e4ad",
   "metadata": {},
   "outputs": [],
   "source": [
    "compactness, total_population = raw_compactness(gdf, 'POPTOT2020', unit_conversion_ratio=1)\n",
    "print(\"Compacidad bruta:\", compactness)\n"
   ]
  },
  {
   "cell_type": "code",
   "execution_count": null,
   "id": "68c36c0f-71cb-44b5-8a22-c681155bd93d",
   "metadata": {},
   "outputs": [],
   "source": [
    "normalized_compactness = normalize_compactness(gdf, 'POPTOT2020', reference_density=1000, unit_conversion_ratio=1, grid_size=100)\n",
    "print(\"Compacidad normalizada:\", normalized_compactness)"
   ]
  }
 ],
 "metadata": {
  "kernelspec": {
   "display_name": "Python 3 (ipykernel)",
   "language": "python",
   "name": "python3"
  },
  "language_info": {
   "codemirror_mode": {
    "name": "ipython",
    "version": 3
   },
   "file_extension": ".py",
   "mimetype": "text/x-python",
   "name": "python",
   "nbconvert_exporter": "python",
   "pygments_lexer": "ipython3",
   "version": "3.12.7"
  }
 },
 "nbformat": 4,
 "nbformat_minor": 5
}
