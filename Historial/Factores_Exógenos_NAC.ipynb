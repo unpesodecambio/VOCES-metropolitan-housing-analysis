{
 "cells": [
  {
   "cell_type": "code",
   "execution_count": 1,
   "id": "a9561a35-7e66-4b75-809f-0e55dd2e3603",
   "metadata": {},
   "outputs": [],
   "source": [
    "import geopandas as gpd\n",
    "import pandas as pd"
   ]
  },
  {
   "cell_type": "code",
   "execution_count": 7,
   "id": "eee546f2-c1f5-41d4-8b10-ee604d12a648",
   "metadata": {},
   "outputs": [],
   "source": [
    "# Cargar la capa de hexágonos\n",
    "hex_grid = gpd.read_file(r\"C:\\Users\\ADMIN\\Desktop\\Ejercicio\\Factores Exógenos\\Cuadrícula Hexagonal1600.shp\")"
   ]
  },
  {
   "cell_type": "code",
   "execution_count": null,
   "id": "4babe9fe-fd8d-47fd-93a9-418d5ae66c91",
   "metadata": {},
   "outputs": [],
   "source": [
    "# Cargar la capa de manzanas\n",
    "manzanas = gpd.read_file(r\"C:\\Users\\ADMIN\\OneDrive - Universidad de Guadalajara\\3. Voces\\2024\\Tipologías\\Nacional\\240527_Mapa_Subtipologías_PCU.gpkg\", layer=\"Mapa_SubTipologias_PCUS\")"
   ]
  },
  {
   "cell_type": "code",
   "execution_count": 8,
   "id": "61007f4b-4cf3-42ab-a9e4-34346e2777c9",
   "metadata": {},
   "outputs": [],
   "source": [
    "# Crear un campo ID único para cada hexágono\n",
    "hex_grid['hex_grid_id'] = range(1, len(hex_grid) + 1)\n",
    "\n",
    "# Asegurar que ambas capas tengan el mismo sistema de referencia espacial (CRS)\n",
    "if hex_grid.crs != manzanas.crs:\n",
    "    manzanas = manzanas.to_crs(hex_grid.crs)\n",
    "\n",
    "# Realizar la intersección espacial entre hexágonos y manzanas\n",
    "intersected = gpd.overlay(manzanas, hex_grid, how='intersection')\n",
    "\n",
    "# Agrupar por los identificadores de los hexágonos\n",
    "grouped = intersected.groupby('hex_grid_id')  # Cambia 'hex_grid_id' al nombre correcto del campo ID de los hexágonos"
   ]
  },
  {
   "cell_type": "code",
   "execution_count": 9,
   "id": "e9da06d7-5385-4894-90ab-e109bbddafd2",
   "metadata": {},
   "outputs": [],
   "source": [
    "# Crear las nuevas columnas para sumatorias en la capa de hexágonos\n",
    "sum_fields = [\n",
    "    'POPTOT2010', 'POPTOT2020', 'VIVTOT2010', 'VIVTOT2020',\n",
    "    'VIVPARDES2010', 'VIVPARDES2020', 'area_ha',\n",
    "    'CUARTOS2010', 'CUARTOS2020'\n",
    "]\n",
    "\n",
    "for field in sum_fields:\n",
    "    hex_grid[f'sum_{field}'] = 0\n",
    "\n",
    "# Crear una columna para la cantidad de manzanas que cruzan\n",
    "hex_grid['manzanas_count'] = 0\n",
    "\n",
    "# Calcular las sumatorias y la cantidad de manzanas\n",
    "for hex_id, group in grouped:\n",
    "    for field in sum_fields:\n",
    "        hex_grid.loc[hex_grid['hex_grid_id'] == hex_id, f'sum_{field}'] = group[field].sum()\n",
    "    \n",
    "    hex_grid.loc[hex_grid['hex_grid_id'] == hex_id, 'manzanas_count'] = len(group)"
   ]
  },
  {
   "cell_type": "code",
   "execution_count": 10,
   "id": "3a622be2-578f-46aa-8004-ec435e5bd667",
   "metadata": {},
   "outputs": [],
   "source": [
    "# Calcular las modas y porcentajes (8 para TIPOLOGIA y 4 para R_DESHAB)\n",
    "for i in range(1, 9):  # 8 categorías para TIPOLOGIA\n",
    "    hex_grid[f't_{i}'] = None\n",
    "    hex_grid[f't_{i}_p'] = 0.0\n",
    "\n",
    "for i in range(1, 5):  # 4 categorías para R_DESHAB\n",
    "    hex_grid[f'r_{i}'] = None\n",
    "    hex_grid[f'r_{i}_p'] = 0.0"
   ]
  },
  {
   "cell_type": "code",
   "execution_count": 11,
   "id": "94de3f60-2dea-43e6-ad32-c5c4fc5b5240",
   "metadata": {},
   "outputs": [],
   "source": [
    "# Calcular las modas y porcentajes\n",
    "for hex_id, group in grouped:\n",
    "    # Calcular para TIPOLOGIA\n",
    "    top8_tipologia = group['TIPOLOGIA'].value_counts().head(8)\n",
    "    total_count_tipologia = group['TIPOLOGIA'].count()\n",
    "\n",
    "    for i, (category, count) in enumerate(top8_tipologia.items(), start=1):\n",
    "        hex_grid.loc[hex_grid['hex_grid_id'] == hex_id, f't_{i}'] = category\n",
    "        hex_grid.loc[hex_grid['hex_grid_id'] == hex_id, f't_{i}_p'] = (count / total_count_tipologia) * 100\n",
    "\n",
    "    # Calcular para R_DESHAB\n",
    "    top4_r_deshab = group['R_DESHAB'].value_counts().head(4)\n",
    "    total_count_r_deshab = group['R_DESHAB'].count()\n",
    "\n",
    "    for i, (category, count) in enumerate(top4_r_deshab.items(), start=1):\n",
    "        hex_grid.loc[hex_grid['hex_grid_id'] == hex_id, f'r_{i}'] = category\n",
    "        hex_grid.loc[hex_grid['hex_grid_id'] == hex_id, f'r_{i}_p'] = (count / total_count_r_deshab) * 100"
   ]
  },
  {
   "cell_type": "code",
   "execution_count": 13,
   "id": "22efbe62-2e0d-4443-b56b-6fd002b5caeb",
   "metadata": {},
   "outputs": [],
   "source": [
    "# Guardar el resultado en un archivo GPKG\n",
    "hex_grid.to_file(r\"C:\\Users\\ADMIN\\Desktop\\Ejercicio\\Factores Exógenos\\Cuadrícula_Hexagonal_Actualizada.gpkg\", driver=\"GPKG\")"
   ]
  },
  {
   "cell_type": "code",
   "execution_count": null,
   "id": "5f9f9c78-15ce-4e52-9775-9f6da2613256",
   "metadata": {},
   "outputs": [],
   "source": []
  }
 ],
 "metadata": {
  "kernelspec": {
   "display_name": "Python 3 (ipykernel)",
   "language": "python",
   "name": "python3"
  },
  "language_info": {
   "codemirror_mode": {
    "name": "ipython",
    "version": 3
   },
   "file_extension": ".py",
   "mimetype": "text/x-python",
   "name": "python",
   "nbconvert_exporter": "python",
   "pygments_lexer": "ipython3",
   "version": "3.11.3"
  }
 },
 "nbformat": 4,
 "nbformat_minor": 5
}
