{
 "cells": [
  {
   "cell_type": "code",
   "execution_count": 1,
   "id": "285c3c18",
   "metadata": {},
   "outputs": [],
   "source": [
    "import pandas as pd\n",
    "import geopandas as gpd\n",
    "import numpy as np\n",
    "from shapely.geometry import Polygon\n",
    "from dbfread import DBF\n",
    "import jenkspy\n",
    "import json\n",
    "from jenkspy import jenks_breaks"
   ]
  },
  {
   "cell_type": "code",
   "execution_count": 2,
   "id": "29bf8baa-42b2-44d7-94b0-15282a62c912",
   "metadata": {},
   "outputs": [],
   "source": [
    "#RUTAS ENTRADA\n",
    "MZA_2020_ruta = r\"C:\\Users\\ADMIN\\Desktop\\Ejercicio\\Base de Datos Censal\\MZNA_2020_NAC.csv\"\n",
    "NSE_ruta = r\"C:\\Users\\ADMIN\\Desktop\\Ejercicio\\NSE\\nse_ageb_amai.xlsx\"\n",
    "CVE_METRO_ruta = r\"C:\\Users\\ADMIN\\Desktop\\Ejercicio\\ClavesMetro.csv\"\n",
    "\n",
    "# ruta shp base\n",
    "SHP_MZA_NAC_ruta = r\"C:\\Users\\ADMIN\\Desktop\\Ejercicio\\MZN_NAC\"\n",
    "\n",
    "#ruta gpkg fin\n",
    "MAPA_TIPO_ruta = r\"C:\\Users\\ADMIN\\Desktop\\Ejercicio\\NSE\\NSE_MZA_NAC.gpkg\""
   ]
  },
  {
   "cell_type": "code",
   "execution_count": 6,
   "id": "1ef767ab-b27f-4da3-92ca-2add51856d6a",
   "metadata": {},
   "outputs": [],
   "source": [
    "# Cargar archivo en un DataFrame\n",
    "MZNA_2020_df = pd.read_csv(MZA_2020_ruta, dtype=str)\n",
    "\n",
    "# Leer shp base\n",
    "MAPA_TIPO_gdf = gpd.read_file(SHP_MZA_NAC_ruta)\n",
    "\n",
    "# Filtrar censos\n",
    "MZNA_2020_df_F = MZNA_2020_df[['CVEGEO', 'POBTOT','PEA']]\n",
    "\n",
    "# Unir campos de los DataFrames al GeoPackage base por CVEGEO\n",
    "MAPA_TIPO_gdf1 = MAPA_TIPO_gdf.merge(MZNA_2020_df_F[['CVEGEO', 'POBTOT','PEA']], on='CVEGEO', how='left')\n",
    "\n",
    "# reemplazar * con 1\n",
    "def replace(dataframe):\n",
    "    return dataframe.replace('*', '1')\n",
    "\n",
    "# limpiar  *\n",
    "MAPA_TIPO_gdf4_A = replace(MAPA_TIPO_gdf1)\n",
    "\n",
    "# reemplazar N/D\n",
    "MAPA_TIPO_gdf4_B = MAPA_TIPO_gdf4_A.replace('N/D', np.nan)\n",
    "\n",
    "# Actualizar valores sin información de \"null\" a 0\n",
    "MAPA_TIPO_gdf4_C = MAPA_TIPO_gdf4_B.fillna(0)"
   ]
  },
  {
   "cell_type": "code",
   "execution_count": 7,
   "id": "087b4d1f-e022-4e46-8eee-5df0159c577b",
   "metadata": {},
   "outputs": [],
   "source": [
    "#Subir archivo con CVE_METRO\n",
    "CVE_METRO_df = pd.read_csv(CVE_METRO_ruta, dtype={'CVE_MET': str, 'CVEMUN':str})\n",
    "\n",
    "MAPA_TIPO_gdf = MAPA_TIPO_gdf4_C\n",
    "\n",
    "#Crear campo CVEMUN\n",
    "def homologate_municipio_id(row):\n",
    "    return f\"{row['CVE_ENT']}{row['CVE_MUN']}\"\n",
    "\n",
    "MAPA_TIPO_gdf['CVEMUN'] = MAPA_TIPO_gdf.apply(homologate_municipio_id, axis=1)\n",
    "\n",
    "#Añadir claves a GPKG\n",
    "MAPA_TIPO_gdf = MAPA_TIPO_gdf.merge(CVE_METRO_df[['CVEMUN', 'CVE_MET', 'NOM_MET', 'TIPO_MET']], on='CVEMUN', how='left')\n",
    "\n",
    "#FILTRAR MUNICIPIOS ZONAS METROPOLITANAS\n",
    "valores_filtro = CVE_METRO_df['CVEMUN'].unique()\n",
    "\n",
    "MAPA_TIPO_gdf = MAPA_TIPO_gdf[(MAPA_TIPO_gdf['CVEMUN'].isin(valores_filtro))]\n",
    "\n",
    "# Guardar el GeoPackage base actualizado\n",
    "MAPA_TIPO_gdf.to_file(MAPA_TIPO_ruta, layer= 'BASE_DATOS_METRO', driver=\"GPKG\")"
   ]
  },
  {
   "cell_type": "code",
   "execution_count": null,
   "id": "6f5493be-2c09-491f-ae9c-dcfd5674cfc5",
   "metadata": {},
   "outputs": [],
   "source": [
    "# Leer el archivo Excel\n",
    "nse_df = pd.read_excel(NSE_ruta, usecols=['CVEAGEB', 'PONDERADO', 'PREDOMINANTE'])\n",
    "\n",
    "# Leer la capa específica del GeoPackage\n",
    "MAPA_TIPO_gdf = gpd.read_file(MAPA_TIPO_ruta, layer='BASE_DATOS_METRO')"
   ]
  },
  {
   "cell_type": "code",
   "execution_count": 10,
   "id": "7674039f-6db3-4fdf-b1e0-a7b2f56e7689",
   "metadata": {},
   "outputs": [
    {
     "name": "stdout",
     "output_type": "stream",
     "text": [
      "Proceso completado y el archivo guardado.\n"
     ]
    }
   ],
   "source": [
    "# Crear el campo CVEAGEB en el GeoDataFrame concatenando los campos necesarios\n",
    "MAPA_TIPO_gdf['CVEAGEB'] = MAPA_TIPO_gdf['CVE_ENT'].astype(str) + MAPA_TIPO_gdf['CVE_MUN'].astype(str) + MAPA_TIPO_gdf['CVE_LOC'].astype(str) + MAPA_TIPO_gdf['CVE_AGEB'].astype(str)\n",
    "\n",
    "# Realizar la unión (merge) por el campo CVEAGEB\n",
    "merged_gdf = MAPA_TIPO_gdf.merge(nse_df, on='CVEAGEB')\n",
    "\n",
    "# Guardar el resultado en un nuevo archivo (por ejemplo, en un GeoPackage)\n",
    "merged_gdf.to_file(MAPA_TIPO_ruta, layer= 'NSE_NAC_MZA', driver=\"GPKG\")\n",
    "\n",
    "print(\"Proceso completado y el archivo guardado.\")"
   ]
  },
  {
   "cell_type": "code",
   "execution_count": 11,
   "id": "ebc9753d-b28f-4498-ae93-44a440f56d35",
   "metadata": {},
   "outputs": [],
   "source": [
    "# Leer la capa específica del GeoPackage\n",
    "MAPA_TIPO_gdf = gpd.read_file(MAPA_TIPO_ruta, layer='NSE_NAC_MZA')"
   ]
  },
  {
   "cell_type": "code",
   "execution_count": null,
   "id": "be7621ba-3883-4cf2-b953-54c1035c3fc5",
   "metadata": {},
   "outputs": [],
   "source": [
    "# Convertir las columnas 'PEA', 'POBTOT' y 'PONDERADO' a numéricas\n",
    "MAPA_TIPO_gdf[['PEA', 'POBTOT', 'PONDERADO']] = MAPA_TIPO_gdf[['PEA', 'POBTOT', 'PONDERADO']].apply(pd.to_numeric, errors='coerce')"
   ]
  },
  {
   "cell_type": "code",
   "execution_count": 18,
   "id": "ea258abe-6445-4db1-adba-b155ff09ea9a",
   "metadata": {},
   "outputs": [
    {
     "name": "stdout",
     "output_type": "stream",
     "text": [
      "Nuevos campos creados en MAPA_TIPO_gdf.\n"
     ]
    }
   ],
   "source": [
    "# Crear nuevos campos\n",
    "MAPA_TIPO_gdf['DEP_ECO'] = MAPA_TIPO_gdf['PEA'] / MAPA_TIPO_gdf['POBTOT']\n",
    "MAPA_TIPO_gdf['area_ha'] = MAPA_TIPO_gdf.geometry.area / 10000 \n",
    "MAPA_TIPO_gdf['DENS_DEP'] = MAPA_TIPO_gdf['DEP_ECO'] / MAPA_TIPO_gdf['area_ha']\n",
    "MAPA_TIPO_gdf['CAP_ECO'] = MAPA_TIPO_gdf['DENS_DEP'] * MAPA_TIPO_gdf['PONDERADO']\n",
    "MAPA_TIPO_gdf['CAP_ECOv2'] = MAPA_TIPO_gdf['DEP_ECO'] * MAPA_TIPO_gdf['PONDERADO']\n",
    "\n",
    "print(\"Nuevos campos creados en MAPA_TIPO_gdf.\")"
   ]
  },
  {
   "cell_type": "code",
   "execution_count": 19,
   "id": "9bf740d0-9b2d-4fc5-a767-ebb18044cc3e",
   "metadata": {},
   "outputs": [],
   "source": [
    "# Guardar el GeoPackage\n",
    "MAPA_TIPO_gdf.to_file(MAPA_TIPO_ruta, layer= 'CAP_ECO_NAC_MZA', driver=\"GPKG\")"
   ]
  },
  {
   "cell_type": "code",
   "execution_count": null,
   "id": "ffa731fe-8541-43b1-87d4-9cf7677db77c",
   "metadata": {},
   "outputs": [],
   "source": []
  }
 ],
 "metadata": {
  "kernelspec": {
   "display_name": "Python 3 (ipykernel)",
   "language": "python",
   "name": "python3"
  },
  "language_info": {
   "codemirror_mode": {
    "name": "ipython",
    "version": 3
   },
   "file_extension": ".py",
   "mimetype": "text/x-python",
   "name": "python",
   "nbconvert_exporter": "python",
   "pygments_lexer": "ipython3",
   "version": "3.12.7"
  }
 },
 "nbformat": 4,
 "nbformat_minor": 5
}
