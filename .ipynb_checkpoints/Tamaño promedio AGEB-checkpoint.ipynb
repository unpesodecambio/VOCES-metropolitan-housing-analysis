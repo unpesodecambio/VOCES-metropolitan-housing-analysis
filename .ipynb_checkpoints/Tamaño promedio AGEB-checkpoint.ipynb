{
 "cells": [
  {
   "cell_type": "code",
   "execution_count": 4,
   "id": "302b4f57-0130-4828-ba0f-501e45213214",
   "metadata": {},
   "outputs": [],
   "source": [
    "import pandas as pd\n",
    "import geopandas as gpd"
   ]
  },
  {
   "cell_type": "code",
   "execution_count": 5,
   "id": "694ce318-a535-46d9-8d32-3ba3e431df8d",
   "metadata": {},
   "outputs": [],
   "source": [
    "MAPA_TIPO_ruta = r\"C:\\Users\\ADMIN\\Desktop\\Censos\\shp\\MG_2020_Integrado\\conjunto_de_datos\\00a.shp\"\n",
    "CVE_METRO_ruta = r\"C:\\Users\\ADMIN\\Desktop\\Ejercicio\\ClavesMetro.csv\""
   ]
  },
  {
   "cell_type": "code",
   "execution_count": 7,
   "id": "839d27e8-bb42-483a-b7e6-cb0e98986ab5",
   "metadata": {},
   "outputs": [],
   "source": [
    "#Subir archivo con CVE_METRO\n",
    "CVE_METRO_df = pd.read_csv(CVE_METRO_ruta, dtype={'CVE_MET': str, 'CVEMUN':str})\n",
    "\n",
    "MAPA_TIPO_gdf = gpd.read_file(MAPA_TIPO_ruta)\n",
    "\n",
    "#Crear campo CVEMUN\n",
    "def homologate_municipio_id(row):\n",
    "    return f\"{row['CVE_ENT']}{row['CVE_MUN']}\"\n",
    "\n",
    "MAPA_TIPO_gdf['CVEMUN'] = MAPA_TIPO_gdf.apply(homologate_municipio_id, axis=1)\n",
    "\n",
    "#Añadir claves a GPKG\n",
    "MAPA_TIPO_gdf = MAPA_TIPO_gdf.merge(CVE_METRO_df[['CVEMUN', 'CVE_MET', 'NOM_MET', 'TIPO_MET']], on='CVEMUN', how='left')\n",
    "\n",
    "#FILTRAR MUNICIPIOS ZONAS METROPOLITANAS\n",
    "valores_filtro = CVE_METRO_df['CVEMUN'].unique()\n",
    "\n",
    "MAPA_TIPO_gdf = MAPA_TIPO_gdf[(MAPA_TIPO_gdf['CVEMUN'].isin(valores_filtro))]"
   ]
  },
  {
   "cell_type": "code",
   "execution_count": 17,
   "id": "f6545e87-1312-4529-bd39-b9bde9d08fdb",
   "metadata": {},
   "outputs": [
    {
     "name": "stdout",
     "output_type": "stream",
     "text": [
      "Exportación completada. El archivo CSV se ha guardado en: C:\\Users\\ADMIN\\Desktop\\Ejercicio\\promedio_areas_metro.csv\n"
     ]
    }
   ],
   "source": [
    "# Filtrar solo los registros donde el campo Ambito sea \"Urbana\"\n",
    "MAPA_TIPO_gdf = MAPA_TIPO_gdf[MAPA_TIPO_gdf['Ambito'] == 'Urbana']\n",
    "\n",
    "# Calcular el área de cada polígono en metros cuadrados (asegurándote de que la geometría esté proyectada)\n",
    "MAPA_TIPO_gdf = MAPA_TIPO_gdf.to_crs(epsg=6372)  # Asegúrate de usar una proyección adecuada (como EPSG 6372) que trabaje en metros.\n",
    "MAPA_TIPO_gdf['area_m2_2'] = MAPA_TIPO_gdf.area\n",
    "\n",
    "# Agrupar por NOM_MET y calcular el promedio del área de los polígonos para cada metrópoli\n",
    "resultado_df = MAPA_TIPO_gdf.groupby(['NOM_MET', 'TIPO_MET']).agg(promedio_area_m2=('area_m2', 'mean')).reset_index()\n",
    "\n",
    "# Exportar el resultado a un archivo CSV\n",
    "output_csv = r\"C:\\Users\\ADMIN\\Desktop\\Ejercicio\\promedio_areas_metro.csv\"\n",
    "resultado_df.to_csv(output_csv, index=False)\n",
    "\n",
    "print(\"Exportación completada. El archivo CSV se ha guardado en:\", output_csv)"
   ]
  },
  {
   "cell_type": "code",
   "execution_count": 18,
   "id": "d4e78627-42f6-4def-af49-3772655f95f0",
   "metadata": {},
   "outputs": [],
   "source": [
    "output_gpkg = r\"C:\\Users\\ADMIN\\Desktop\\Ejercicio\\MAPA_TIPO_exportado.gpkg\"\n",
    "MAPA_TIPO_gdf.to_file(output_gpkg, driver=\"GPKG\")"
   ]
  },
  {
   "cell_type": "code",
   "execution_count": null,
   "id": "aaf40712-99fd-4a23-88e6-4fde87b1a4d2",
   "metadata": {},
   "outputs": [],
   "source": []
  }
 ],
 "metadata": {
  "kernelspec": {
   "display_name": "Python 3 (ipykernel)",
   "language": "python",
   "name": "python3"
  },
  "language_info": {
   "codemirror_mode": {
    "name": "ipython",
    "version": 3
   },
   "file_extension": ".py",
   "mimetype": "text/x-python",
   "name": "python",
   "nbconvert_exporter": "python",
   "pygments_lexer": "ipython3",
   "version": "3.12.7"
  }
 },
 "nbformat": 4,
 "nbformat_minor": 5
}
