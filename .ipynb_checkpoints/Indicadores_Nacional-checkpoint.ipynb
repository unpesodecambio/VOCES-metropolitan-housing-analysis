{
 "cells": [
  {
   "cell_type": "markdown",
   "id": "8b718395",
   "metadata": {},
   "source": [
    "# **Código Indicadores municipales nacional**\n",
    "Esto será el código para crear la base de datos municipal de indicadores a nivel nacional. <br>\n",
    "<br>\n",
    "Base de datos por manzana base para todos los análisis posteriores. Esta base de datos contiene todos los capos necesarios para las extracciones siguientes, para los análisis por localidad, por zona metropolitana, y por municipio."
   ]
  },
  {
   "cell_type": "code",
   "execution_count": 3,
   "id": "e63ef91e",
   "metadata": {},
   "outputs": [],
   "source": [
    "import pandas as pd\n",
    "import geopandas as gpd\n",
    "import numpy as np\n",
    "from shapely.geometry import Polygon\n",
    "from dbfread import DBF\n",
    "import jenkspy\n",
    "import json\n",
    "from jenkspy import jenks_breaks"
   ]
  },
  {
   "cell_type": "markdown",
   "id": "1aecc5e6",
   "metadata": {},
   "source": [
    "# Información municipal"
   ]
  },
  {
   "cell_type": "code",
   "execution_count": 1,
   "id": "60f735cb",
   "metadata": {},
   "outputs": [],
   "source": [
    "#1) su densidad media urbana - pob / area ha urbana\n",
    "#2) su densidad media residencial - viv / area ha urbana\n",
    "#3) sus tasas de crecimiento en 2010 y en 2020 - Sólo tengo la 2020\n",
    "#4) su porcentaje promedio de deshabitación 2010 y 2020 - sólo hay VIV_DESH 2020\n",
    "\n",
    "#5) Población 2010 y 2020\n",
    "\n",
    "#6) vivienda total 2010 y 2020\n",
    "#7) tasa de crecimiento de vivienda\n",
    "\n",
    "#8) pib municipal\n",
    "\n",
    "#ruta gpkg fin\n",
    "MAPA_TIPO_ruta = r\"C:\\Users\\Alejandro\\Downloads\\DATA\\Tratados\\NAC\\Mapa_Tipologías_NAC\""
   ]
  },
  {
   "cell_type": "markdown",
   "id": "45d5c3e3",
   "metadata": {},
   "source": [
    "### paso 1 - preparar manzanas"
   ]
  },
  {
   "cell_type": "code",
   "execution_count": 4,
   "id": "8847b774",
   "metadata": {},
   "outputs": [],
   "source": [
    "#Leer archivo manzanas base\n",
    "\n",
    "MAPA_TIPO_gdf = gpd.read_file(MAPA_TIPO_ruta, layer='Mapa_Tipologias_Filtrado')\n",
    "\n",
    "# Actualizar valores sin información de \"null\" a 0\n",
    "MAPA_TIPO_gdf = MAPA_TIPO_gdf.fillna(0)\n",
    "\n",
    "#Crear campo CVEMUN\n",
    "def homologate_municipio_id(row):\n",
    "    return f\"{row['CVE_ENT']}{row['CVE_MUN']}\"\n",
    "\n",
    "MAPA_TIPO_gdf['CVEMUN'] = MAPA_TIPO_gdf.apply(homologate_municipio_id, axis=1)\n",
    "\n",
    "#Traer promedio deshab por mun\n",
    "MAPA_TIPO_gdf['PROM_DESHAB_MUN'] = MAPA_TIPO_gdf.groupby('CVEMUN')['DESHABITACION'].transform('mean')\n",
    "\n",
    "#Traer sólo datos únicos para facilitar el merge posterior de prom deshab mun y metro\n",
    "PROM_DESHAB_MUN_gdf = MAPA_TIPO_gdf[['CVEMUN', 'PROM_DESHAB_MUN']].drop_duplicates()\n",
    "PROM_DESHAB_MET_gdf = MAPA_TIPO_gdf[['CVE_MET', 'PROM_DESHAB']].drop_duplicates()\n",
    "\n",
    "#calcular áreas por  mzna filtrada 2020\n",
    "\n",
    "# Agrupar las localidades urbanas por municipio y sumar las áreas\n",
    "MAPA_TIPO_gdf_MUN = MAPA_TIPO_gdf.dissolve(by='CVEMUN', aggfunc='sum')\n",
    "\n",
    "# Renombrar la columna de área para claridad\n",
    "MAPA_TIPO_gdf_MUN.rename(columns={'area_ha': 'area_mznFIL_ha'}, inplace=True)\n",
    "\n",
    "#Traer datos mzna filtrada 2010\n",
    "\n",
    "#Leer archivo manzanas base\n",
    "MAPA_TIPO_2010_gdf = gpd.read_file(MAPA_TIPO_ruta, layer='Mapa_Tipologias_Filtrado_2010')\n",
    "\n",
    "#Crear campo CVEMUN\n",
    "def homologate_municipio_id(row):\n",
    "    return f\"{row['CVE_ENT']}{row['CVE_MUN']}\"\n",
    "\n",
    "MAPA_TIPO_2010_gdf['CVEMUN'] = MAPA_TIPO_2010_gdf.apply(homologate_municipio_id, axis=1)\n",
    "\n",
    "#calcular áreas por  mzna filtrada\n",
    "\n",
    "# Agrupar las localidades urbanas por municipio y sumar las áreas\n",
    "MAPA_TIPO_2010_gdf_MUN = MAPA_TIPO_2010_gdf.dissolve(by='CVEMUN', aggfunc='sum')\n",
    "\n",
    "# Renombrar la columna de área para claridad\n",
    "MAPA_TIPO_2010_gdf_MUN.rename(columns={'area_ha': 'area_mznFIL_ha_2010'}, inplace=True)"
   ]
  },
  {
   "cell_type": "markdown",
   "id": "d50b2073",
   "metadata": {},
   "source": [
    "## preparar PIB"
   ]
  },
  {
   "cell_type": "code",
   "execution_count": 13,
   "id": "d06334b9",
   "metadata": {},
   "outputs": [],
   "source": [
    "PIB_2020_salida = r\"C:\\Users\\Alejandro\\Documents\\1. Documentos\\UdG\\Trabajos\\9\\Tesis\\Datos\\Python\\Tratados\\VACB_2020.csv\"\n",
    "PIB_2010_salida = r\"C:\\Users\\Alejandro\\Documents\\1. Documentos\\UdG\\Trabajos\\9\\Tesis\\Datos\\Python\\Tratados\\VACB_2010.csv\"\n",
    "\n",
    "PIB_2020 = pd.read_csv(PIB_2020_salida, dtype={'CVEGEO': str})\n",
    "PIB_2010 = pd.read_csv(PIB_2010_salida, dtype={'CVEGEO': str})\n",
    "\n",
    "# Renombrar la columna de CVGEO para claridad\n",
    "PIB_2020.rename(columns={'CVEGEO': 'CVEMUN'}, inplace=True)\n",
    "PIB_2010.rename(columns={'CVEGEO': 'CVEMUN'}, inplace=True)"
   ]
  },
  {
   "cell_type": "markdown",
   "id": "c19fb3f1",
   "metadata": {},
   "source": [
    "## Preparar censos "
   ]
  },
  {
   "cell_type": "code",
   "execution_count": null,
   "id": "bfd0debd",
   "metadata": {},
   "outputs": [],
   "source": [
    "#RUTAS SALIDA\n",
    "ITER_2020_salida = r\"C:\\Users\\Alejandro\\Documents\\1. Documentos\\UdG\\Trabajos\\9\\Tesis\\Datos\\Python\\Tratados\\Censo 20.csv\"\n",
    "ITER_2010_salida = r\"C:\\Users\\Alejandro\\Documents\\1. Documentos\\UdG\\Trabajos\\9\\Tesis\\Datos\\Python\\Tratados\\Censo 10.csv\"\n",
    "ITER_2000_salida = r\"C:\\Users\\Alejandro\\Downloads\\DATA\\2000\\ITER_NALDBF00.dbf\"\n",
    "\n",
    "ITER_2020_df = pd.read_csv(ITER_2020_salida, dtype={'CVEGEO': str})\n",
    "ITER_2010_df = pd.read_csv(ITER_2010_salida, dtype={'CVEGEO': str})\n",
    "\n",
    "# Función para cargar datos de archivo DBF y convertirlos a DataFrame\n",
    "def load_dbf_to_dataframe(file_path):\n",
    "    table = DBF(file_path)\n",
    "    return pd.DataFrame(iter(table))\n",
    "\n",
    "ITER_2000_df = load_dbf_to_dataframe(ITER_2000_salida)\n",
    "\n",
    "ITER_2020_df.rename(columns={'CVEGEO': 'CVEMUN'}, inplace=True)\n",
    "ITER_2010_df.rename(columns={'CVEGEO': 'CVEMUN'}, inplace=True)\n",
    "\n",
    "#Filtrar ITER\n",
    "localidad = ['0000']\n",
    "\n",
    "def filtrar_municipios_gpkg(dataframe, localidad):\n",
    "    return dataframe[(dataframe['LOC'].isin(localidad))]\n",
    "\n",
    "ITER_2000_df = filtrar_municipios_gpkg(ITER_2000_df, localidad)\n",
    "\n",
    "#Crear campo CVEMUN\n",
    "def homologate_municipio_id_2000(row):\n",
    "    return f\"{row['ENTIDAD']}{row['MUN']}\"\n",
    "\n",
    "ITER_2000_df['CVEMUN'] = ITER_2000_df.apply(homologate_municipio_id_2000, axis=1)"
   ]
  },
  {
   "cell_type": "markdown",
   "id": "5204fd98",
   "metadata": {},
   "source": [
    "### paso 2 - crear gpkg municipal"
   ]
  },
  {
   "cell_type": "code",
   "execution_count": 50,
   "id": "a77704b5",
   "metadata": {},
   "outputs": [],
   "source": [
    "#Crear gpkg Municipal\n",
    "MAPA_MUN_ruta = r\"C:\\Users\\Alejandro\\Downloads\\DATA\\Tratados\\NAC\\Mapa_Mun_NAC.gpkg\"\n",
    "\n",
    "#Claves metro ruta\n",
    "CVE_METRO_ruta = r\"C:\\Users\\Alejandro\\Downloads\\DATA\\Claves_Metro.csv\"\n",
    "\n",
    "#TRATAR MAPA SUB-TIPOLOGÍAS\n",
    "#rutas shp base\n",
    "SHP_MUN_ruta = r\"C:\\Users\\Alejandro\\Downloads\\DATA\\SHP\\NAC\\00mun.shp\"\n",
    "SHP_LOC_ruta = r\"C:\\Users\\Alejandro\\Downloads\\DATA\\SHP\\NAC\\00l.shp\"\n",
    "SHP_LOC_2010_ruta = r\"C:\\Users\\Alejandro\\Downloads\\DATA\\SHP\\NAC\\POLIGONOS_URBANOS.shp\""
   ]
  },
  {
   "cell_type": "code",
   "execution_count": 51,
   "id": "8a8914a7",
   "metadata": {},
   "outputs": [
    {
     "name": "stderr",
     "output_type": "stream",
     "text": [
      "C:\\Users\\Alejandro\\AppData\\Local\\Temp\\ipykernel_2064\\1308436274.py:42: FutureWarning: The default value of numeric_only in aggfunc='sum' within pandas.DataFrameGroupBy.agg used in dissolve is deprecated. In pandas 2.0, numeric_only will default to False. Either specify numeric_only as additional argument in dissolve() or select only columns which should be valid for the function.\n",
      "  area_por_municipio_2020 = SHP_LOC_gdf.dissolve(by='CVEMUN', aggfunc='sum')\n",
      "C:\\Users\\Alejandro\\AppData\\Local\\Temp\\ipykernel_2064\\1308436274.py:43: FutureWarning: The default value of numeric_only in aggfunc='sum' within pandas.DataFrameGroupBy.agg used in dissolve is deprecated. In pandas 2.0, numeric_only will default to False. Either specify numeric_only as additional argument in dissolve() or select only columns which should be valid for the function.\n",
      "  area_por_municipio_2010 = SHP_LOC_2010_gdf.dissolve(by='CVEMUN', aggfunc='sum')\n"
     ]
    }
   ],
   "source": [
    "#Leer información municipal\n",
    "\n",
    "SHP_MUN_gdf = gpd.read_file(SHP_MUN_ruta)\n",
    "SHP_LOC_gdf = gpd.read_file(SHP_LOC_ruta)\n",
    "SHP_LOC_2010_gdf = gpd.read_file(SHP_LOC_2010_ruta)\n",
    "\n",
    "#Subir archivo con CVE_METRO\n",
    "CVE_METRO_df = pd.read_csv(CVE_METRO_ruta, dtype={'CVE_MET': str, 'CVEMUN':str})\n",
    "\n",
    "#crear campo CVEMUN\n",
    "\n",
    "def homologate_urban_id(row):\n",
    "    return f\"{row['CVE_ENT']}{row['CVE_MUN']}\"\n",
    "\n",
    "SHP_MUN_gdf['CVEMUN'] = SHP_MUN_gdf.apply(homologate_urban_id, axis=1)\n",
    "SHP_LOC_gdf['CVEMUN'] = SHP_LOC_gdf.apply(homologate_urban_id, axis=1)\n",
    "SHP_LOC_2010_gdf['CVEMUN'] = SHP_LOC_2010_gdf.apply(homologate_urban_id, axis=1)\n",
    "\n",
    "\n",
    "#Añadir claves a GPKG\n",
    "SHP_MUN_gdf = SHP_MUN_gdf.merge(CVE_METRO_df[['CVEMUN', 'CVE_MET', 'NOM_MET']], on='CVEMUN', how='left')\n",
    "\n",
    "#FILTRAR MUNICIPIOS ZONAS METROPOLITANAS\n",
    "valores_filtro = CVE_METRO_df['CVEMUN'].unique()\n",
    "\n",
    "SHP_MUN_gdf = SHP_MUN_gdf[(SHP_MUN_gdf['CVEMUN'].isin(valores_filtro))]\n",
    "SHP_LOC_gdf = SHP_LOC_gdf[(SHP_LOC_gdf['CVEMUN'].isin(valores_filtro))]\n",
    "SHP_LOC_2010_gdf = SHP_LOC_2010_gdf[(SHP_LOC_2010_gdf['CVEMUN'].isin(valores_filtro))]\n",
    "\n",
    "# Asegurarse de que ambas capas estén en el mismo sistema de referencia de coordenadas (CRS)\n",
    "if SHP_LOC_gdf.crs != MAPA_TIPO_gdf.crs:\n",
    "    SHP_LOC_gdf = SHP_LOC_gdf.to_crs(MAPA_TIPO_gdf.crs)\n",
    "    \n",
    "if SHP_LOC_2010_gdf.crs != MAPA_TIPO_gdf.crs:\n",
    "    SHP_LOC_2010_gdf = SHP_LOC_2010_gdf.to_crs(MAPA_TIPO_gdf.crs)\n",
    "\n",
    "# Calcular el área de cada polígono de localidades urbanas en hectáreas\n",
    "SHP_LOC_gdf['area_ha'] = SHP_LOC_gdf.geometry.area / 10000\n",
    "SHP_LOC_2010_gdf['area_ha'] = SHP_LOC_2010_gdf.geometry.area / 10000\n",
    "\n",
    "# Agrupar las localidades urbanas por municipio y sumar las áreas\n",
    "area_por_municipio_2020 = SHP_LOC_gdf.dissolve(by='CVEMUN', aggfunc='sum')\n",
    "area_por_municipio_2010 = SHP_LOC_2010_gdf.dissolve(by='CVEMUN', aggfunc='sum')\n",
    "\n",
    "# Renombrar la columna de área para claridad\n",
    "area_por_municipio_2020.rename(columns={'area_ha': 'area_loc_2020_ha'}, inplace=True)\n",
    "area_por_municipio_2010.rename(columns={'area_ha': 'area_loc_2010_ha'}, inplace=True)\n",
    "\n",
    "# Unir la suma de áreas a la capa de delimitaciones municipales\n",
    "SHP_MUN_gdf = SHP_MUN_gdf.merge(area_por_municipio_2020[['area_loc_2020_ha']], on='CVEMUN', how='left')\n",
    "SHP_MUN_gdf = SHP_MUN_gdf.merge(area_por_municipio_2010[['area_loc_2010_ha']], on='CVEMUN', how='left')\n",
    "\n",
    "# Guardar el resultado en un nuevo archivo shapefile\n",
    "SHP_MUN_gdf.to_file(MAPA_MUN_ruta, layer='DATOS_MUN', driver='GPKG')"
   ]
  },
  {
   "cell_type": "markdown",
   "id": "6c5bf42a",
   "metadata": {},
   "source": [
    "### paso 3 - traer los datos al gpkg base"
   ]
  },
  {
   "cell_type": "code",
   "execution_count": 74,
   "id": "c25fb5e0",
   "metadata": {},
   "outputs": [],
   "source": [
    "SHP_MUN_gdf1 = SHP_MUN_gdf.merge(MAPA_TIPO_gdf_MUN[['POPTOT2020', 'VIVTOT2020', 'VIVPARDES2020', 'area_mznFIL_ha']], on='CVEMUN', how='left')\n",
    "SHP_MUN_gdf3 = SHP_MUN_gdf1.merge(MAPA_TIPO_2010_gdf_MUN[['POPTOT2010', 'VIVTOT2010', 'VIVPARDES2010','area_mznFIL_ha_2010']], on='CVEMUN', how='left')\n",
    "SHP_MUN_gdf4 = SHP_MUN_gdf3.merge(PIB_2020[['CVEMUN', 'VACB_MILL']], on='CVEMUN', how='left')\n",
    "SHP_MUN_gdf5 = SHP_MUN_gdf4.merge(PIB_2010[['CVEMUN', 'VACB_MILL']], on='CVEMUN', how='left', suffixes=('_20','_10'))\n",
    "SHP_MUN_gdf6 = SHP_MUN_gdf5.merge(ITER_2020_df[['CVEMUN', 'POBTOT']], on='CVEMUN', how='left')\n",
    "SHP_MUN_gdf7 = SHP_MUN_gdf6.merge(ITER_2010_df[['CVEMUN', 'POBTOT']], on='CVEMUN', how='left', suffixes=('_20','_10'))\n",
    "SHP_MUN_gdf8 = SHP_MUN_gdf7.merge(ITER_2000_df[['CVEMUN', 'POBTOT']], on='CVEMUN', how='left')"
   ]
  },
  {
   "cell_type": "code",
   "execution_count": 82,
   "id": "2cbe04f7",
   "metadata": {},
   "outputs": [],
   "source": [
    "SHP_MUN_gdf9 = SHP_MUN_gdf8.merge(PROM_DESHAB_MUN_gdf[['CVEMUN', 'PROM_DESHAB_MUN']], on='CVEMUN', how='left')"
   ]
  },
  {
   "cell_type": "code",
   "execution_count": null,
   "id": "6b7532e7",
   "metadata": {},
   "outputs": [],
   "source": [
    "SHP_MUN_gdf = SHP_MUN_gdf9.merge(PROM_DESHAB_MET_gdf[['CVE_MET','PROM_DESHAB' ]], on='CVE_MET', how='left')"
   ]
  },
  {
   "cell_type": "code",
   "execution_count": null,
   "id": "b8f8d1b3",
   "metadata": {},
   "outputs": [],
   "source": [
    "SHP_MUN_gdf[['POBTOT']] = SHP_MUN_gdf[['POBTOT']].apply(pd.to_numeric, errors='coerce')"
   ]
  },
  {
   "cell_type": "code",
   "execution_count": 85,
   "id": "aebd6eaa",
   "metadata": {},
   "outputs": [],
   "source": [
    "# Guardar el resultado en un nuevo archivo shapefile\n",
    "SHP_MUN_gdf.to_file(MAPA_MUN_ruta, layer='DATOS_MUN', driver='GPKG')"
   ]
  },
  {
   "cell_type": "markdown",
   "id": "3e63e226",
   "metadata": {},
   "source": [
    "### paso 4 - crear campos necesarios"
   ]
  },
  {
   "cell_type": "code",
   "execution_count": null,
   "id": "8ea2597f",
   "metadata": {},
   "outputs": [],
   "source": [
    "#1) su densidad media urbana - pob / area ha urbana\n",
    "SHP_MUN_gdf['1_1_DMU_20'] = SHP_MUN_gdf['POPTOT2020']/SHP_MUN_gdf['area_loc_2020_ha']\n",
    "SHP_MUN_gdf['1_2_DMU_10'] = SHP_MUN_gdf['POPTOT2010']/SHP_MUN_gdf['area_loc_2010_ha']\n",
    "\n",
    "#2) su densidad media residencial - pob / area ha residencial\n",
    "SHP_MUN_gdf['2_1_DMR_20'] = SHP_MUN_gdf['VIVTOT2020']/SHP_MUN_gdf['area_mznFIL_ha']\n",
    "SHP_MUN_gdf['2_2_DMR_10'] = SHP_MUN_gdf['VIVTOT2010']/SHP_MUN_gdf['area_mznFIL_ha_2010']\n",
    "\n",
    "#3) sus tasas de crecimiento en 2010 y en 2020 \n",
    "SHP_MUN_gdf['3_1_TCP_20'] = ((SHP_MUN_gdf['POBTOT_20']/SHP_MUN_gdf['POBTOT_10'])** (1/10)) - 1\n",
    "SHP_MUN_gdf['3_2_TCP_10'] = ((SHP_MUN_gdf['POBTOT_10']/SHP_MUN_gdf['POBTOT'])** (1/10)) - 1\n",
    "\n",
    "#4) su porcentaje promedio de deshabitación 2010 y 2020\n",
    "SHP_MUN_gdf['4_1_PD_20'] = SHP_MUN_gdf['VIVPARDES2020'] / SHP_MUN_gdf['VIVTOT2020']\n",
    "SHP_MUN_gdf['4_2_PDP_20'] = SHP_MUN_gdf['PROM_DESHAB_MUN']\n",
    "\n",
    "#5) Población 2010 y 2020 MUNICIPAL\n",
    "SHP_MUN_gdf['5_1_POB10'] = SHP_MUN_gdf['POBTOT_10']\n",
    "SHP_MUN_gdf['5_2_POB20'] = SHP_MUN_gdf['POBTOT_20']\n",
    "\n",
    "#6) vivienda total 2010 y 2020\n",
    "SHP_MUN_gdf['6_1_VIV10'] = SHP_MUN_gdf['VIVTOT2010']\n",
    "SHP_MUN_gdf['6_2_VIV20'] = SHP_MUN_gdf['VIVTOT2020']\n",
    "\n",
    "#7) tasa de crecimiento de vivienda\n",
    "SHP_MUN_gdf['7_TCV_20'] = ((SHP_MUN_gdf['VIVTOT2020']/SHP_MUN_gdf['VIVTOT2010'])** (1/10)) - 1\n",
    "\n",
    "#8) PIB municipal\n",
    "SHP_MUN_gdf['8_1_PIB_20'] = SHP_MUN_gdf['VACB_MILL_20']\n",
    "SHP_MUN_gdf['8_2_PIB_10'] = SHP_MUN_gdf['VACB_MILL_10']"
   ]
  },
  {
   "cell_type": "code",
   "execution_count": 96,
   "id": "5c7b9808",
   "metadata": {},
   "outputs": [],
   "source": [
    "SHP_MUN_gdf1 = SHP_MUN_gdf.drop(columns = ['CVE_ENT', 'CVE_MUN', 'CVEMUN',  'area_loc_2020_ha', 'area_loc_2010_ha',\n",
    "       'POPTOT2020', 'VIVTOT2020', 'VIVPARDES2020', 'area_mznFIL_ha',\n",
    "       'POPTOT2010', 'VIVTOT2010', 'VIVPARDES2010', 'area_mznFIL_ha_2010',\n",
    "       'VACB_MILL_20', 'VACB_MILL_10', 'POBTOT_20', 'POBTOT_10', 'POBTOT',\n",
    "       'PROM_DESHAB_MUN'])\n",
    "\n",
    "# Guardar el resultado en un nuevo archivo shapefile\n",
    "SHP_MUN_gdf1.to_file(MAPA_MUN_ruta, layer='INDICADORES', driver='GPKG')"
   ]
  },
  {
   "cell_type": "code",
   "execution_count": 97,
   "id": "feac2f31",
   "metadata": {},
   "outputs": [],
   "source": [
    "SHP_MUN_gdf2 = SHP_MUN_gdf1.drop(columns = ['geometry'])\n",
    "\n",
    "SHP_MUN_gdf2.to_csv(r\"C:\\Users\\Alejandro\\Downloads\\DATA\\Tratados\\NAC\\Ind_Mun_NAC.csv\", index=False)"
   ]
  },
  {
   "cell_type": "markdown",
   "id": "9ec9de8b",
   "metadata": {},
   "source": [
    "## Tabla por metrópoli"
   ]
  },
  {
   "cell_type": "code",
   "execution_count": 165,
   "id": "c4a16aab",
   "metadata": {},
   "outputs": [],
   "source": [
    "MAPA_ZM_ruta = r\"C:\\Users\\Alejandro\\Downloads\\DATA\\Tratados\\NAC\\Mapa_ZM_NAC.gpkg\"\n",
    "\n",
    "SHP_MUN_gdf = gpd.read_file(MAPA_MUN_ruta, layer='DATOS_MUN')"
   ]
  },
  {
   "cell_type": "code",
   "execution_count": 158,
   "id": "75d56c21",
   "metadata": {},
   "outputs": [
    {
     "name": "stderr",
     "output_type": "stream",
     "text": [
      "C:\\Users\\Alejandro\\AppData\\Local\\Temp\\ipykernel_2064\\341123214.py:2: FutureWarning: The default value of numeric_only in aggfunc='sum' within pandas.DataFrameGroupBy.agg used in dissolve is deprecated. In pandas 2.0, numeric_only will default to False. Either specify numeric_only as additional argument in dissolve() or select only columns which should be valid for the function.\n",
      "  SHP_MUN_gdf_ZM = SHP_MUN_gdf.dissolve(by='CVE_MET', aggfunc='sum')\n"
     ]
    }
   ],
   "source": [
    "# Agrupar las localidades urbanas por municipio y sumar las áreas\n",
    "SHP_MUN_gdf_ZM = SHP_MUN_gdf.dissolve(by='CVE_MET', aggfunc='sum')\n",
    "\n",
    "#Borrar columnas redundantes\n",
    "SHP_MUN_gdf = SHP_MUN_gdf.drop(columns = ['CVEGEO', 'CVE_ENT', 'CVE_MUN', 'NOMGEO', 'CVEMUN', 'area_loc_2020_ha', 'area_loc_2010_ha', 'POPTOT2020',\n",
    "       'VIVTOT2020', 'VIVPARDES2020', 'area_mznFIL_ha', 'POPTOT2010',\n",
    "       'VIVTOT2010', 'VIVPARDES2010', 'area_mznFIL_ha_2010', 'VACB_MILL_20',\n",
    "       'VACB_MILL_10', 'POBTOT_20', 'POBTOT_10', 'POBTOT', 'PROM_DESHAB_MUN'])\n",
    "SHP_MUN_gdf_ZM = SHP_MUN_gdf_ZM.drop(columns=['geometry', 'PROM_DESHAB_MUN'])\n",
    "\n",
    "#Agrupar base por ZM\n",
    "SHP_MUN_gdf1 = SHP_MUN_gdf.dissolve(by='CVE_MET').reset_index()\n",
    "\n",
    "#Añadir datos por zm a base\n",
    "SHP_MUN_gdf2 = SHP_MUN_gdf1.merge(SHP_MUN_gdf_ZM, on='CVE_MET', how='left')\n",
    "SHP_MUN_gdf3 = SHP_MUN_gdf2.merge(PROM_DESHAB_MET_gdf[['CVE_MET','PROM_DESHAB' ]], on='CVE_MET', how='left')\n",
    "\n",
    "# Guardar el resultado en un nuevo archivo shapefile\n",
    "SHP_MUN_gdf3.to_file(MAPA_ZM_ruta, layer='DATOS_MUN', driver='GPKG')"
   ]
  },
  {
   "cell_type": "code",
   "execution_count": 159,
   "id": "0a46bad3",
   "metadata": {},
   "outputs": [],
   "source": [
    "SHP_MUN_gdf = SHP_MUN_gdf3"
   ]
  },
  {
   "cell_type": "code",
   "execution_count": 160,
   "id": "3f7ca646",
   "metadata": {},
   "outputs": [],
   "source": [
    "#1) su densidad media urbana - pob / area ha urbana\n",
    "SHP_MUN_gdf['1_1_DMU_20'] = SHP_MUN_gdf['POPTOT2020']/SHP_MUN_gdf['area_loc_2020_ha']\n",
    "SHP_MUN_gdf['1_2_DMU_10'] = SHP_MUN_gdf['POPTOT2010']/SHP_MUN_gdf['area_loc_2010_ha']\n",
    "\n",
    "#2) su densidad media residencial - pob / area ha residencial\n",
    "SHP_MUN_gdf['2_1_DMR_20'] = SHP_MUN_gdf['VIVTOT2020']/SHP_MUN_gdf['area_mznFIL_ha']\n",
    "SHP_MUN_gdf['2_2_DMR_10'] = SHP_MUN_gdf['VIVTOT2010']/SHP_MUN_gdf['area_mznFIL_ha_2010']\n",
    "\n",
    "#3) sus tasas de crecimiento en 2010 y en 2020 \n",
    "SHP_MUN_gdf['3_1_TCP_20'] = ((SHP_MUN_gdf['POBTOT_20']/SHP_MUN_gdf['POBTOT_10'])** (1/10)) - 1\n",
    "SHP_MUN_gdf['3_2_TCP_10'] = ((SHP_MUN_gdf['POBTOT_10']/SHP_MUN_gdf['POBTOT'])** (1/10)) - 1\n",
    "\n",
    "#4) su porcentaje promedio de deshabitación 2010 y 2020\n",
    "SHP_MUN_gdf['4_1_PD_20'] = SHP_MUN_gdf['VIVPARDES2020'] / SHP_MUN_gdf['VIVTOT2020']\n",
    "SHP_MUN_gdf['4_2_PDP_20'] = SHP_MUN_gdf['PROM_DESHAB']\n",
    "\n",
    "#5) Población 2010 y 2020 MUNICIPAL\n",
    "SHP_MUN_gdf['5_1_POB10'] = SHP_MUN_gdf['POBTOT_10']\n",
    "SHP_MUN_gdf['5_2_POB20'] = SHP_MUN_gdf['POBTOT_20']\n",
    "\n",
    "#6) vivienda total 2010 y 2020\n",
    "SHP_MUN_gdf['6_1_VIV10'] = SHP_MUN_gdf['VIVTOT2010']\n",
    "SHP_MUN_gdf['6_2_VIV20'] = SHP_MUN_gdf['VIVTOT2020']\n",
    "\n",
    "#7) tasa de crecimiento de vivienda\n",
    "SHP_MUN_gdf['7_TCV_20'] = ((SHP_MUN_gdf['VIVTOT2020']/SHP_MUN_gdf['VIVTOT2010'])** (1/10)) - 1\n",
    "\n",
    "#8) PIB municipal\n",
    "SHP_MUN_gdf['8_1_PIB_20'] = SHP_MUN_gdf['VACB_MILL_20']\n",
    "SHP_MUN_gdf['8_2_PIB_10'] = SHP_MUN_gdf['VACB_MILL_10']"
   ]
  },
  {
   "cell_type": "code",
   "execution_count": 161,
   "id": "582a4092",
   "metadata": {},
   "outputs": [
    {
     "data": {
      "text/plain": [
       "Index(['CVE_MET', 'geometry', 'NOM_MET', 'area_loc_2020_ha',\n",
       "       'area_loc_2010_ha', 'POPTOT2020', 'VIVTOT2020', 'VIVPARDES2020',\n",
       "       'area_mznFIL_ha', 'POPTOT2010', 'VIVTOT2010', 'VIVPARDES2010',\n",
       "       'area_mznFIL_ha_2010', 'VACB_MILL_20', 'VACB_MILL_10', 'POBTOT_20',\n",
       "       'POBTOT_10', 'POBTOT', 'PROM_DESHAB', '1_1_DMU_20', '1_2_DMU_10',\n",
       "       '2_1_DMR_20', '2_2_DMR_10', '3_1_TCP_20', '3_2_TCP_10', '4_1_PD_20',\n",
       "       '4_2_PDP_20', '5_1_POB10', '5_2_POB20', '6_1_VIV10', '6_2_VIV20',\n",
       "       '7_TCV_20', '8_1_PIB_20', '8_2_PIB_10'],\n",
       "      dtype='object')"
      ]
     },
     "execution_count": 161,
     "metadata": {},
     "output_type": "execute_result"
    }
   ],
   "source": [
    "SHP_MUN_gdf.columns"
   ]
  },
  {
   "cell_type": "code",
   "execution_count": 162,
   "id": "d70d1893",
   "metadata": {},
   "outputs": [],
   "source": [
    "SHP_MUN_gdf1 = SHP_MUN_gdf.drop(columns = ['area_loc_2020_ha',\n",
    "       'area_loc_2010_ha', 'POPTOT2020', 'VIVTOT2020', 'VIVPARDES2020',\n",
    "       'area_mznFIL_ha', 'POPTOT2010', 'VIVTOT2010', 'VIVPARDES2010',\n",
    "       'area_mznFIL_ha_2010', 'VACB_MILL_20', 'VACB_MILL_10', 'POBTOT_20',\n",
    "       'POBTOT_10', 'POBTOT', 'PROM_DESHAB'])\n",
    "\n",
    "# Guardar el resultado en un nuevo archivo shapefile\n",
    "SHP_MUN_gdf1.to_file(MAPA_ZM_ruta, layer='INDICADORES', driver='GPKG')"
   ]
  },
  {
   "cell_type": "code",
   "execution_count": 164,
   "id": "f6e9c058",
   "metadata": {},
   "outputs": [],
   "source": [
    "SHP_MUN_gdf2 = SHP_MUN_gdf1.drop(columns = ['geometry'])\n",
    "\n",
    "SHP_MUN_gdf2.to_csv(r\"C:\\Users\\Alejandro\\Downloads\\DATA\\Tratados\\NAC\\Ind_ZM_NAC.csv\", index=False)"
   ]
  },
  {
   "cell_type": "markdown",
   "id": "a00d083c",
   "metadata": {},
   "source": [
    "# paso extra - prueba AMG\n",
    "## hay que arreglar:\n",
    "volver a sacar áreas 2020\n",
    "\n",
    "Revisar metodología completa"
   ]
  },
  {
   "cell_type": "code",
   "execution_count": null,
   "id": "91be703f",
   "metadata": {},
   "outputs": [],
   "source": [
    "#INSERTAR MUN NECESARIOS - AMG SEDATU\n",
    "entidad = ['14']\n",
    "municipios = ['039', '051','070','097', '098', '101', '120']"
   ]
  },
  {
   "cell_type": "code",
   "execution_count": null,
   "id": "b3119e52",
   "metadata": {},
   "outputs": [],
   "source": [
    "#carga metodología AMG\n",
    "SHP_AMG_ruta = r\"C:\\Users\\Alejandro\\Downloads\\DATA\\Tratados\\AMG\\Mapa_Tipologías_AMG.gpkg\"\n"
   ]
  },
  {
   "cell_type": "code",
   "execution_count": null,
   "id": "5aebb8be",
   "metadata": {},
   "outputs": [],
   "source": [
    "AMG_gdf = gpd.read_file(SHP_AMG_ruta, layer='Mapa_Tipologias')\n",
    "AMG_FILTRO_gdf = gpd.read_file(SHP_AMG_ruta, layer='Mapa_Tipologias_Filtrado')"
   ]
  },
  {
   "cell_type": "code",
   "execution_count": null,
   "id": "fc50449a",
   "metadata": {},
   "outputs": [],
   "source": [
    "#Crear campo CVEMUN\n",
    "def homologate_municipio_id(row):\n",
    "    return f\"{row['CVE_ENT']}{row['CVE_MUN']}\"\n",
    "\n",
    "AMG_gdf['CVEMUN'] = AMG_gdf.apply(homologate_municipio_id, axis=1)\n",
    "AMG_FILTRO_gdf['CVEMUN'] = AMG_FILTRO_gdf.apply(homologate_municipio_id, axis=1)\n"
   ]
  },
  {
   "cell_type": "code",
   "execution_count": null,
   "id": "9f8ccac2",
   "metadata": {},
   "outputs": [],
   "source": [
    "#Leer shp base mun\n",
    "\n",
    "MAPA_CM = r\"C:\\Users\\Alejandro\\Documents\\1. Documentos\\UdG\\Trabajos\\9\\Tesis\\Datos\\Python\\Tratados\\Mapa_CM_2017.gpkg\"\n",
    "\n",
    "MAPA_CM_gdf = gpd.read_file(MAPA_CM, layer='BASE_DATOS')"
   ]
  },
  {
   "cell_type": "code",
   "execution_count": null,
   "id": "88baf47c",
   "metadata": {},
   "outputs": [],
   "source": [
    "#Filtrar ITER\n",
    "def filtrar_municipios_gpkg(dataframe, municipios, entidad):\n",
    "    return dataframe[(dataframe['CVE_MUN'].isin(municipios)) & (dataframe['CVE_ENT'].isin(entidad))]\n",
    "\n",
    "MAPA_AMG_gdf = filtrar_municipios_gpkg(MAPA_CM_gdf, municipios, entidad)"
   ]
  },
  {
   "cell_type": "code",
   "execution_count": null,
   "id": "f4dae6d3",
   "metadata": {},
   "outputs": [],
   "source": [
    "MAPA_AMG_gdf = MAPA_AMG_gdf.drop(columns = ['Pobreza extrema Personas 2010',\n",
    "       'Pobreza extrema Personas 2020', 'P8A14AN_20',\n",
    "       'P15YM_AN_20','P8A14AN_10', 'P15YM_AN_10', 'ID_ENTIDAD_x',\n",
    "       'ID_MUNICIPIO_x', 'Bienes muebles, inmuebles e intangibles_EG17',\n",
    "       'Deuda pública_EG17', 'Disponibilidad final_EG17',\n",
    "       'Inversiones financieras y otras provisiones_EG17',\n",
    "       'Inversión pública_EG17', 'Materiales y suministros_EG17',\n",
    "       'Otros egresos_EG17', 'Servicios generales_EG17',\n",
    "       'Servicios personales_EG17', 'Total de egresos_EG17',\n",
    "       'Transferencias, asignaciones, subsidios y otras ayudas_EG17',\n",
    "       'ID_ENTIDAD_y', 'ID_MUNICIPIO_y',\n",
    "       'Aportaciones federales y estatales_IG17', 'Aprovechamientos_IG17',\n",
    "       'Contribuciones de Mejoras_IG17', 'Derechos_IG17',\n",
    "       'Disponibilidad inicial_IG17', 'Financiamiento_IG17', 'Impuestos_IG17',\n",
    "       'Otros ingresos_IG17', 'Participaciones federales_IG17',\n",
    "       'Productos_IG17', 'Total de ingresos_IG17', 'ID_ENTIDAD_IG17',\n",
    "       'ID_MUNICIPIO_IG17', 'Bienes muebles, inmuebles e intangibles_EG11',\n",
    "       'Deuda pública_EG11', 'Disponibilidad final_EG11',\n",
    "       'Inversiones financieras y otras provisiones_EG11',\n",
    "       'Inversión pública_EG11', 'Materiales y suministros_EG11',\n",
    "       'Otros egresos_EG11', 'Servicios generales_EG11',\n",
    "       'Servicios personales_EG11', 'Total de egresos_EG11',\n",
    "       'Transferencias, asignaciones, subsidios y otras ayudas_EG11',\n",
    "       'ID_ENTIDAD_IG11', 'ID_MUNICIPIO_IG11',\n",
    "       'Aportaciones federales y estatales_IG11', 'Aprovechamientos_IG11',\n",
    "       'Contribuciones de Mejoras_IG11',\n",
    "       'Cuotas y Aportaciones de Seguridad Social', 'Derechos_IG11',\n",
    "       'Disponibilidad inicial_IG11', 'Financiamiento_IG11', 'Impuestos_IG11',\n",
    "       'Otros ingresos_IG11', 'Participaciones federales_IG11',\n",
    "       'Productos_IG11', 'Total de ingresos_IG11'])"
   ]
  },
  {
   "cell_type": "code",
   "execution_count": null,
   "id": "f9330d9b",
   "metadata": {},
   "outputs": [],
   "source": [
    "MAPA_AMG_gdf.rename(columns={'CVEGEO': 'CVEMUN'}, inplace=True)\n",
    "MAPA_AMG_gdf.rename(columns={'area_total_ha': 'area_loc_ha'}, inplace=True)"
   ]
  },
  {
   "cell_type": "code",
   "execution_count": 38,
   "id": "c9b5a473",
   "metadata": {},
   "outputs": [],
   "source": [
    "#calcular área por municipio\n",
    "MAPA_AMG_gdf['area_mun_ha'] = MAPA_AMG_gdf.geometry.area / 10000"
   ]
  },
  {
   "cell_type": "code",
   "execution_count": null,
   "id": "a990ed81",
   "metadata": {},
   "outputs": [],
   "source": [
    "#calcular áreas por manzana y mzna filtrada\n",
    "\n",
    "# Agrupar las localidades urbanas por municipio y sumar las áreas\n",
    "AMG_gdf_MUN = AMG_gdf.dissolve(by='CVEMUN', aggfunc='sum')\n",
    "AMG_FILTRO_gdf_MUN = AMG_FILTRO_gdf.dissolve(by='CVEMUN', aggfunc='sum')\n",
    "\n",
    "# Renombrar la columna de área para claridad\n",
    "AMG_gdf_MUN.rename(columns={'area_ha': 'area_mzn_ha'}, inplace=True)\n",
    "AMG_FILTRO_gdf_MUN.rename(columns={'area_ha': 'area_mznFIL_ha'}, inplace=True)\n",
    "\n",
    "# Unir la suma de áreas a la capa de delimitaciones municipales\n",
    "MAPA_AMG_gdf = MAPA_AMG_gdf.merge(AMG_gdf_MUN[['area_mzn_ha']], on='CVEMUN', how='left')\n",
    "MAPA_AMG_gdf = MAPA_AMG_gdf.merge(AMG_FILTRO_gdf_MUN[['area_mznFIL_ha']], on='CVEMUN', how='left')"
   ]
  },
  {
   "cell_type": "code",
   "execution_count": null,
   "id": "0f151da1",
   "metadata": {},
   "outputs": [],
   "source": [
    "# Unir datos adicionales\n",
    "MAPA_AMG_gdf = MAPA_AMG_gdf.merge(AMG_gdf_MUN[['POPTOT2020', 'VIVTOT2020']], on='CVEMUN', how='left')\n",
    "MAPA_AMG_gdf = MAPA_AMG_gdf.merge(AMG_FILTRO_gdf_MUN[['POPTOT2020', 'VIVTOT2020']], on='CVEMUN', how='left', suffixes=('_M','_MF'))"
   ]
  },
  {
   "cell_type": "code",
   "execution_count": null,
   "id": "ca20e2d7",
   "metadata": {},
   "outputs": [],
   "source": [
    "MAPA_AMG_gdf.columns"
   ]
  },
  {
   "cell_type": "code",
   "execution_count": null,
   "id": "dc95bfde",
   "metadata": {},
   "outputs": [],
   "source": [
    "#traer datos VIVTOT - MUN\n",
    "\n",
    "ITER_2020_ruta = r\"C:\\Users\\Alejandro\\Documents\\1. Documentos\\UdG\\Trabajos\\9\\Tesis\\Datos\\Python\\Insumos\\Censo 20.csv\"\n",
    "\n",
    "# Cargar archivos en un DataFrame\n",
    "ITER_2020_df = pd.read_csv(ITER_2020_ruta, dtype={'ENTIDAD': str, 'MUN': str, 'LOC': str, 'LATITUD': str})\n",
    "\n",
    "#Filtrar ITER\n",
    "localidad = ['0000']\n",
    "\n",
    "def filtrar_municipios_gpkg(dataframe, localidad):\n",
    "    return dataframe[(dataframe['LOC'].isin(localidad))]\n",
    "\n",
    "ITER_2020_df = filtrar_municipios_gpkg(ITER_2020_df, localidad)\n",
    "\n",
    "# 2.2 Homologación de ID urbana - CVEGEO\n",
    "def homologate_urban_id(row):\n",
    "    return f\"{row['ENTIDAD']}{row['MUN']}\"\n",
    "\n",
    "ITER_2020_df['CVEMUN'] = ITER_2020_df.apply(homologate_urban_id, axis=1)\n",
    "\n",
    "#reemplazar * con 0\n",
    "def replace(dataframe):\n",
    "    return dataframe.replace('*', '0')\n",
    "\n",
    "ITER_2020_df_rep = replace(ITER_2020_df)\n",
    "\n",
    "# Actualizar valores sin información de \"null\" a 0\n",
    "ITER_2020_df = ITER_2020_df_rep.fillna(0)"
   ]
  },
  {
   "cell_type": "code",
   "execution_count": 66,
   "id": "6865a6c0",
   "metadata": {},
   "outputs": [],
   "source": [
    "MAPA_AMG_gdf = MAPA_AMG_gdf.merge(ITER_2020_df[['CVEMUN','VIVTOT']], on='CVEMUN', how='left')"
   ]
  },
  {
   "cell_type": "code",
   "execution_count": 67,
   "id": "671e6b20",
   "metadata": {},
   "outputs": [
    {
     "data": {
      "text/plain": [
       "Index(['CVE_ENT', 'CVE_MUN', 'NOM_MUN', 'CVEMUN', 'area_loc_ha',\n",
       "       'VACB_MILL_PIB10', 'VACB_MILL_PIB20', 'POBTOT_20', 'POBTOT_10',\n",
       "       'geometry', 'area_mun_ha', 'area_mzn_ha', 'area_mznFIL_ha',\n",
       "       'POPTOT2020_M', 'VIVTOT2020_M', 'POPTOT2020_MF', 'VIVTOT2020_MF',\n",
       "       'VIVTOT'],\n",
       "      dtype='object')"
      ]
     },
     "execution_count": 67,
     "metadata": {},
     "output_type": "execute_result"
    }
   ],
   "source": [
    "MAPA_AMG_gdf.columns"
   ]
  },
  {
   "cell_type": "code",
   "execution_count": 69,
   "id": "4f598b39",
   "metadata": {},
   "outputs": [],
   "source": [
    "SHP_AMG_ruta = r\"C:\\Users\\Alejandro\\Downloads\\DATA\\Tratados\\AMG\\Mapa_MUN_AMG.gpkg\"\n",
    "\n",
    "# Guardar el resultado en un nuevo archivo shapefile\n",
    "MAPA_AMG_gdf.to_file(SHP_AMG_ruta, layer='BASE_DATOS', driver='GPKG')"
   ]
  },
  {
   "cell_type": "code",
   "execution_count": 69,
   "id": "400736b1",
   "metadata": {},
   "outputs": [],
   "source": [
    "SHP_AMG_ruta = r\"C:\\Users\\Alejandro\\Downloads\\DATA\\Tratados\\AMG\\Mapa_MUN_AMG.gpkg\"\n",
    "\n",
    "# Guardar el resultado en un nuevo archivo shapefile\n",
    "MAPA_AMG_gdf.to_file(SHP_AMG_ruta, layer='BASE_DATOS', driver='GPKG')"
   ]
  },
  {
   "cell_type": "code",
   "execution_count": 69,
   "id": "426bd76b",
   "metadata": {},
   "outputs": [],
   "source": [
    "####TABLA DMU - AMG - 2020\n",
    "\n",
    "#1) su densidad media urbana - pob / area ha urbana\n",
    "### LOCALIDAD, AGEB, MZNA, MZNA_FILTRO\n",
    "MAPA_AMG_gdf['1_1_DMU_mun_2020'] = MAPA_AMG_gdf['POBTOT_20']/MAPA_AMG_gdf['area_mun_ha']\n",
    "MAPA_AMG_gdf['1_2_DMU_loc_2020'] = MAPA_AMG_gdf['POBTOT_20']/MAPA_AMG_gdf['area_loc_ha']\n",
    "MAPA_AMG_gdf['1_3_DMU_mza_2020'] = MAPA_AMG_gdf['POPTOT2020_M']/MAPA_AMG_gdf['area_mzn_ha']\n",
    "MAPA_AMG_gdf['1_4_DMU_mza_fil_2020'] = MAPA_AMG_gdf['POPTOT2020_MF']/MAPA_AMG_gdf['area_mznFIL_ha']\n",
    "\n",
    "#2) su densidad media residencial - viv / area ha urbana NO; ES POB TOT / ÁREA MZNA FIL\n",
    "### LOCALIDAD, AGEB, MZNA, MZNA_FILTRO\n",
    "MAPA_AMG_gdf['2_1_DMR_mun_2020'] = MAPA_AMG_gdf['VIVTOT']/MAPA_AMG_gdf['area_mun_ha']\n",
    "MAPA_AMG_gdf['2_2_DMR_loc_2020'] = MAPA_AMG_gdf['VIVTOT']/MAPA_AMG_gdf['area_loc_ha']\n",
    "MAPA_AMG_gdf['2_3_DMR_mza_2020'] = MAPA_AMG_gdf['VIVTOT2020_M']/MAPA_AMG_gdf['area_mzn_ha']\n",
    "MAPA_AMG_gdf['2_4_DMR_mza_fil_2020'] = MAPA_AMG_gdf['VIVTOT2020_MF']/MAPA_AMG_gdf['area_mznFIL_ha']"
   ]
  },
  {
   "cell_type": "code",
   "execution_count": 71,
   "id": "c99f378a",
   "metadata": {},
   "outputs": [],
   "source": [
    "MAPA_AMG_gdf = MAPA_AMG_gdf.drop(columns = ['CVE_ENT', 'CVE_MUN', \n",
    "       'VACB_MILL_PIB10', 'VACB_MILL_PIB20', 'POBTOT_10'])"
   ]
  },
  {
   "cell_type": "code",
   "execution_count": 73,
   "id": "8939030a",
   "metadata": {},
   "outputs": [],
   "source": [
    "# Guardar el resultado en un nuevo archivo shapefile\n",
    "MAPA_AMG_gdf.to_file(SHP_AMG_ruta, layer='PRUEBA_DM', driver='GPKG')"
   ]
  },
  {
   "cell_type": "code",
   "execution_count": 74,
   "id": "f70a86f7",
   "metadata": {},
   "outputs": [],
   "source": [
    "MAPA_AMG_gdf = MAPA_AMG_gdf.drop(columns = ['geometry'])"
   ]
  },
  {
   "cell_type": "code",
   "execution_count": 75,
   "id": "19dca3fa",
   "metadata": {},
   "outputs": [],
   "source": [
    "# Guardar el resultado en un nuevo archivo CSV\n",
    "MAPA_AMG_gdf.to_csv(r\"C:\\Users\\Alejandro\\Downloads\\DATA\\Tratados\\AMG\\Ind_AMG.csv\", index=False)"
   ]
  }
 ],
 "metadata": {
  "kernelspec": {
   "display_name": "Python 3 (ipykernel)",
   "language": "python",
   "name": "python3"
  },
  "language_info": {
   "codemirror_mode": {
    "name": "ipython",
    "version": 3
   },
   "file_extension": ".py",
   "mimetype": "text/x-python",
   "name": "python",
   "nbconvert_exporter": "python",
   "pygments_lexer": "ipython3",
   "version": "3.10.9"
  }
 },
 "nbformat": 4,
 "nbformat_minor": 5
}
