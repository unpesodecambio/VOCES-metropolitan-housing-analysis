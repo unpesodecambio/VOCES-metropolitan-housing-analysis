{
 "cells": [
  {
   "cell_type": "markdown",
   "id": "ba2ceba3",
   "metadata": {},
   "source": [
    "# **Código ________**\n",
    "Código para calcular porcentajes y ___?"
   ]
  },
  {
   "cell_type": "code",
   "execution_count": 3,
   "id": "971c44a5",
   "metadata": {},
   "outputs": [],
   "source": [
    "import pandas as pd\n",
    "\n",
    "# Leer el archivo Excel generado anteriormente\n",
    "df = pd.read_excel('C:/Users/ADMIN/OneDrive - Universidad de Guadalajara/3. Voces/2024/Tipologías/Nacional/resultados_deshabitacion_v2.xlsx')\n",
    "\n",
    "# Seleccionar las columnas a calcular los porcentajes\n",
    "columnas_a_calcular = ['POPTOT2010', 'POPTOT2020', 'VIVTOT2010', 'VIVTOT2020', 'VIVPARDES2010', 'VIVPARDES2020', 'Manzanas', 'area_ha']\n",
    "\n",
    "# Calcular los porcentajes utilizando como sumatoria el campo 'NOM_MET'\n",
    "for columna in columnas_a_calcular:\n",
    "    df[f'{columna}_%'] = df[columna] / df.groupby('NOM_MET')[columna].transform('sum') * 100\n",
    "\n",
    "# Guardar los datos en un nuevo archivo Excel\n",
    "df.to_excel('C:/Users/ADMIN/OneDrive - Universidad de Guadalajara/3. Voces/2024/Tipologías/Nacional/porcentajes_por_NOM_MET.xlsx', index=False)"
   ]
  },
  {
   "cell_type": "code",
   "execution_count": 5,
   "id": "b21bb89c",
   "metadata": {},
   "outputs": [
    {
     "name": "stderr",
     "output_type": "stream",
     "text": [
      "C:\\Users\\ADMIN\\AppData\\Local\\Temp\\ipykernel_9708\\538678781.py:13: FutureWarning: The default value of numeric_only in DataFrameGroupBy.sum is deprecated. In a future version, numeric_only will default to False. Either specify numeric_only or select only columns which should be valid for the function.\n",
      "  sumatoria_B3 = df_filtrado[df_filtrado['TIPOLOGIA'] == \"B3'\"].groupby('NOM_MET').sum()\n",
      "C:\\Users\\ADMIN\\AppData\\Local\\Temp\\ipykernel_9708\\538678781.py:14: FutureWarning: The default value of numeric_only in DataFrameGroupBy.sum is deprecated. In a future version, numeric_only will default to False. Either specify numeric_only or select only columns which should be valid for the function.\n",
      "  sumatoria_demas = df_filtrado[df_filtrado['TIPOLOGIA'] != \"B3'\"].groupby('NOM_MET').sum()\n",
      "C:\\Users\\ADMIN\\AppData\\Local\\Temp\\ipykernel_9708\\538678781.py:15: FutureWarning: The default value of numeric_only in DataFrameGroupBy.sum is deprecated. In a future version, numeric_only will default to False. Either specify numeric_only or select only columns which should be valid for the function.\n",
      "  sumatoria_total = df_filtrado.groupby('NOM_MET').sum()\n"
     ]
    }
   ],
   "source": [
    "import pandas as pd\n",
    "import numpy as np\n",
    "\n",
    "# Paso 1: Leer el último archivo Excel exportado.\n",
    "df = pd.read_excel('C:/Users/ADMIN/OneDrive - Universidad de Guadalajara/3. Voces/2024/Tipologías/Nacional/resultados_tipologias_v2.xlsx')\n",
    "\n",
    "# Paso 2: Filtrar los campos especificados.\n",
    "campos_filtrados = ['POPTOT2010', 'POPTOT2020', 'VIVTOT2010', 'VIVTOT2020', 'VIVPARDES2010', 'VIVPARDES2020',\n",
    "                    'Manzanas', 'area_ha', 'TIPOLOGIA', 'NOM_MET', 'TIPO_MET']\n",
    "df_filtrado = df[campos_filtrados]\n",
    "\n",
    "# Paso 3: Realizar las sumatorias agrupadas por 'NOM_MET'.\n",
    "sumatoria_B3 = df_filtrado[df_filtrado['TIPOLOGIA'] == \"B3'\"].groupby('NOM_MET').sum()\n",
    "sumatoria_demas = df_filtrado[df_filtrado['TIPOLOGIA'] != \"B3'\"].groupby('NOM_MET').sum()\n",
    "sumatoria_total = df_filtrado.groupby('NOM_MET').sum()\n",
    "\n",
    "# Paso 4: Calcular los porcentajes.\n",
    "porcentaje_B3 = sumatoria_B3.div(sumatoria_total) * 100\n",
    "porcentaje_demas = sumatoria_demas.div(sumatoria_total) * 100\n",
    "\n",
    "# Paso 5: Concatenar las sumatorias y los porcentajes por NOM_MET.\n",
    "resultados_concatenados = pd.concat([sumatoria_B3, porcentaje_B3, sumatoria_demas, porcentaje_demas, sumatoria_total], \n",
    "                                   keys=['Suma_B3', 'Porcentaje_B3', 'Suma_Demas', 'Porcentaje_Demas', 'Suma_Total'])\n",
    "\n",
    "# Paso 6: Calcular el nuevo campo 'TASA_POP'.\n",
    "resultados_concatenados['TASA_POP'] = (((resultados_concatenados['POPTOT2020'] / resultados_concatenados['POPTOT2010']) ** (1/10)) - 1) * 100\n",
    "\n",
    "# Paso 7: Guardar los resultados en un nuevo archivo Excel.\n",
    "resultados_concatenados.to_excel('C:/Users/ADMIN/OneDrive - Universidad de Guadalajara/3. Voces/2024/Tipologías/Nacional/resultados_final.xlsx')"
   ]
  },
  {
   "cell_type": "code",
   "execution_count": null,
   "id": "9e844a60",
   "metadata": {},
   "outputs": [],
   "source": []
  }
 ],
 "metadata": {
  "kernelspec": {
   "display_name": "Python 3 (ipykernel)",
   "language": "python",
   "name": "python3"
  },
  "language_info": {
   "codemirror_mode": {
    "name": "ipython",
    "version": 3
   },
   "file_extension": ".py",
   "mimetype": "text/x-python",
   "name": "python",
   "nbconvert_exporter": "python",
   "pygments_lexer": "ipython3",
   "version": "3.10.9"
  }
 },
 "nbformat": 4,
 "nbformat_minor": 5
}
