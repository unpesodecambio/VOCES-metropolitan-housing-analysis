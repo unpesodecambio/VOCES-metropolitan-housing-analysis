{
 "cells": [
  {
   "cell_type": "code",
   "execution_count": null,
   "id": "bc72c349-e81d-48d0-8491-4cf246e6f2e7",
   "metadata": {},
   "outputs": [],
   "source": [
    "pip install fiona"
   ]
  },
  {
   "cell_type": "code",
   "execution_count": 19,
   "id": "7c7df0cf-c017-41f7-85cb-f49ff3745d4a",
   "metadata": {
    "scrolled": true
   },
   "outputs": [
    {
     "name": "stdout",
     "output_type": "stream",
     "text": [
      "Procesando capa: Educación_Buffer_B\n",
      "Columnas disponibles: Index(['CVEGEO', 'CVE_ENT', 'CVE_MUN', 'CVE_LOC', 'CVE_AGEB', 'CVE_MZA',\n",
      "       'CONDICION', 'GEOGRAFICO', 'NOMSERV', 'TIPO', 'CVE_SERV', 'AMBITO',\n",
      "       'CATEGORIA', 'RADIO', 'IMP', 'IMP_B', 'IMP_C', 'geometry'],\n",
      "      dtype='object')\n",
      "Procesando capa: Educación_Buffer_C\n",
      "Columnas disponibles: Index(['CVEGEO', 'CVE_ENT', 'CVE_MUN', 'CVE_LOC', 'CVE_AGEB', 'CVE_MZA',\n",
      "       'CONDICION', 'GEOGRAFICO', 'NOMSERV', 'TIPO', 'CVE_SERV', 'AMBITO',\n",
      "       'CATEGORIA', 'RADIO', 'IMP', 'IMP_B', 'IMP_C', 'geometry'],\n",
      "      dtype='object')\n",
      "Procesando capa: Recreación_Buffer_C\n",
      "Columnas disponibles: Index(['CVEGEO', 'CVE_ENT', 'CVE_MUN', 'CVE_LOC', 'CVE_AGEB', 'CVE_MZA',\n",
      "       'CONDICION', 'GEOGRAFICO', 'NOMSERV', 'TIPO', 'CVE_SERV', 'AMBITO',\n",
      "       'CATEGORIA', 'RADIO', 'IMP', 'IMP_B', 'IMP_C', 'geometry'],\n",
      "      dtype='object')\n",
      "Procesando capa: Recreación_Buffer_B\n",
      "Columnas disponibles: Index(['CVEGEO', 'CVE_ENT', 'CVE_MUN', 'CVE_LOC', 'CVE_AGEB', 'CVE_MZA',\n",
      "       'CONDICION', 'GEOGRAFICO', 'NOMSERV', 'TIPO', 'CVE_SERV', 'AMBITO',\n",
      "       'CATEGORIA', 'RADIO', 'IMP', 'IMP_B', 'IMP_C', 'geometry'],\n",
      "      dtype='object')\n",
      "Procesando capa: Salud_Buffer_B\n",
      "Columnas disponibles: Index(['CVEGEO', 'CVE_ENT', 'CVE_MUN', 'CVE_LOC', 'CVE_AGEB', 'CVE_MZA',\n",
      "       'CONDICION', 'GEOGRAFICO', 'NOMSERV', 'TIPO', 'CVE_SERV', 'AMBITO',\n",
      "       'CATEGORIA', 'RADIO', 'IMP', 'IMP_B', 'IMP_C', 'geometry'],\n",
      "      dtype='object')\n",
      "Procesando capa: Salud_Buffer_C\n",
      "Columnas disponibles: Index(['CVEGEO', 'CVE_ENT', 'CVE_MUN', 'CVE_LOC', 'CVE_AGEB', 'CVE_MZA',\n",
      "       'CONDICION', 'GEOGRAFICO', 'NOMSERV', 'TIPO', 'CVE_SERV', 'AMBITO',\n",
      "       'CATEGORIA', 'RADIO', 'IMP', 'IMP_B', 'IMP_C', 'geometry'],\n",
      "      dtype='object')\n",
      "Procesando capa: Servicios_Buffer_C\n",
      "Columnas disponibles: Index(['CVEGEO', 'CVE_ENT', 'CVE_MUN', 'CVE_LOC', 'CVE_AGEB', 'CVE_MZA',\n",
      "       'CONDICION', 'GEOGRAFICO', 'NOMSERV', 'TIPO', 'CVE_SERV', 'AMBITO',\n",
      "       'CATEGORIA', 'RADIO', 'IMP', 'IMP_B', 'IMP_C', 'geometry'],\n",
      "      dtype='object')\n",
      "Procesando capa: Servicios_Buffer_B\n",
      "Columnas disponibles: Index(['CVEGEO', 'CVE_ENT', 'CVE_MUN', 'CVE_LOC', 'CVE_AGEB', 'CVE_MZA',\n",
      "       'CONDICION', 'GEOGRAFICO', 'NOMSERV', 'TIPO', 'CVE_SERV', 'AMBITO',\n",
      "       'CATEGORIA', 'RADIO', 'IMP', 'IMP_B', 'IMP_C', 'geometry'],\n",
      "      dtype='object')\n",
      "Excluyendo capa: layer_styles\n",
      "Capas filtradas y exportadas con éxito.\n"
     ]
    }
   ],
   "source": [
    "import geopandas as gpd\n",
    "import fiona\n",
    "\n",
    "# Definir las rutas a los geopackages\n",
    "ruta_gpkg1 = r\"Z:\\VOCES\\DATA\\Tratados\\NAC\\EQUIPAMIENTOS\\Equipamientos_NAC_2020_B.gpkg\"\n",
    "ruta_gpkg2 = r\"Z:\\VOCES\\DATA\\Tratados\\NAC\\INT_MZN_NAC\\Mzn_Tipologías_NAC_B.gpkg\"\n",
    "\n",
    "# Exportar todas las capas filtradas a un nuevo GeoPackage\n",
    "ruta_salida1 = r\"Z:\\VOCES\\DATA\\Tratados\\NAC\\EQUIPAMIENTOS\\Equipamientos_NAC_2020_JAL.gpkg\"\n",
    "ruta_salida2 = r\"Z:\\VOCES\\DATA\\Tratados\\NAC\\INT_MZN_NAC\\Mzn_Tipologías_NAC_JAL.gpkg\"\n",
    "\n",
    "# Obtener todas las capas del primer GeoPackage\n",
    "capas_gpkg1 = fiona.listlayers(ruta_gpkg1)\n",
    "\n",
    "# Cargar y filtrar las capas del primer GeoPackage\n",
    "gdf1_filtradas = []\n",
    "\n",
    "for capa in capas_gpkg1:\n",
    "    if capa == \"layer_styles\":  # Excluir la capa \"layer_styles\"\n",
    "        print(f\"Excluyendo capa: {capa}\")\n",
    "        continue\n",
    "    \n",
    "    gdf = gpd.read_file(ruta_gpkg1, layer=capa)\n",
    "    print(f\"Procesando capa: {capa}\")\n",
    "    print(f\"Columnas disponibles: {gdf.columns}\")\n",
    "    \n",
    "    # Verificar si la columna 'CVE_ENT' existe en la capa\n",
    "    if 'CVE_ENT' in gdf.columns:\n",
    "        gdf_filtrado = gdf[gdf['CVE_ENT'] == '14']  # Filtrar por 'CVE_ENT' == '14'\n",
    "        gdf1_filtradas.append((capa, gdf_filtrado))\n",
    "    else:\n",
    "        print(f\"La capa {capa} no tiene la columna 'CVE_ENT'. Saltando...\")\n",
    "\n",
    "# Guardar las capas filtradas en un nuevo GeoPackage\n",
    "for capa, gdf_filtrado in gdf1_filtradas:\n",
    "    gdf_filtrado.to_file(ruta_salida1, layer=capa, driver=\"GPKG\", mode='w' if capa == gdf1_filtradas[0][0] else 'a')\n",
    "\n",
    "# Cargar la segunda capa del segundo GeoPackage (individualmente)\n",
    "layer_name2 = \"Mzn_SubTipologias_eq\"  # Reemplaza por el nombre real de la capa 2\n",
    "gdf2 = gpd.read_file(ruta_gpkg2, layer=layer_name2)\n",
    "gdf2_filtrado = gdf2[gdf2['CVE_ENT'] == '14']\n",
    "\n",
    "# Guardar la capa filtrada del segundo GeoPackage\n",
    "gdf2_filtrado.to_file(ruta_salida2, layer='Mzn_SubTipologías_eq', driver=\"GPKG\")\n",
    "\n",
    "print(\"Capas filtradas y exportadas con éxito.\")\n"
   ]
  },
  {
   "cell_type": "code",
   "execution_count": 21,
   "id": "ef66018e-13b0-4cac-946c-fbd8048899b2",
   "metadata": {},
   "outputs": [],
   "source": [
    "# Obtener todas las capas del primer GeoPackage\n",
    "capas_gpkg1 = fiona.listlayers(ruta_salida1)"
   ]
  },
  {
   "cell_type": "code",
   "execution_count": 23,
   "id": "1afdbb0e-d397-4762-9ae2-25eb475932a0",
   "metadata": {},
   "outputs": [
    {
     "data": {
      "text/plain": [
       "['Educación_Buffer_B',\n",
       " 'Educación_Buffer_C',\n",
       " 'Recreación_Buffer_C',\n",
       " 'Recreación_Buffer_B',\n",
       " 'Salud_Buffer_B',\n",
       " 'Salud_Buffer_C',\n",
       " 'Servicios_Buffer_C',\n",
       " 'Servicios_Buffer_B']"
      ]
     },
     "execution_count": 23,
     "metadata": {},
     "output_type": "execute_result"
    }
   ],
   "source": [
    "capas_gpkg1"
   ]
  },
  {
   "cell_type": "code",
   "execution_count": 25,
   "id": "cbaf0312-90b8-4ca4-b0d7-5ad36ad23965",
   "metadata": {},
   "outputs": [],
   "source": [
    "gdfB = gpd.read_file(ruta_salida1, layer='Educación_Buffer_B')\n",
    "gdfC = gpd.read_file(ruta_salida1, layer='Educación_Buffer_C')"
   ]
  },
  {
   "cell_type": "code",
   "execution_count": 29,
   "id": "e85230ae-c180-45e4-9a27-20091f923a23",
   "metadata": {},
   "outputs": [
    {
     "data": {
      "text/plain": [
       "0       22610.384330\n",
       "1        7536.794777\n",
       "2        2512.264926\n",
       "3        7536.794777\n",
       "4        2512.264926\n",
       "            ...     \n",
       "7205     2512.264926\n",
       "7206     2512.264926\n",
       "7207     7536.794777\n",
       "7208     2512.264926\n",
       "7209     7536.794777\n",
       "Length: 7210, dtype: float64"
      ]
     },
     "execution_count": 29,
     "metadata": {},
     "output_type": "execute_result"
    }
   ],
   "source": [
    "gdfC.length"
   ]
  }
 ],
 "metadata": {
  "kernelspec": {
   "display_name": "Python 3 (ipykernel)",
   "language": "python",
   "name": "python3"
  },
  "language_info": {
   "codemirror_mode": {
    "name": "ipython",
    "version": 3
   },
   "file_extension": ".py",
   "mimetype": "text/x-python",
   "name": "python",
   "nbconvert_exporter": "python",
   "pygments_lexer": "ipython3",
   "version": "3.12.7"
  }
 },
 "nbformat": 4,
 "nbformat_minor": 5
}
