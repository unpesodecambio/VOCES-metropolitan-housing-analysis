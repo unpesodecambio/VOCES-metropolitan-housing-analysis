{
 "cells": [
  {
   "cell_type": "code",
   "execution_count": 2,
   "id": "84b5b7d4",
   "metadata": {},
   "outputs": [],
   "source": [
    "import pandas as pd\n",
    "import geopandas as gpd\n",
    "import numpy as np\n",
    "from shapely.geometry import Polygon\n",
    "from dbfread import DBF\n",
    "import json"
   ]
  },
  {
   "cell_type": "code",
   "execution_count": 8,
   "id": "8a0ee87b",
   "metadata": {},
   "outputs": [],
   "source": [
    "ITER_2020_ruta = r\"C:\\Users\\ADMIN\\Desktop\\Censos\\ITER_NALCSV20.csv\"\n",
    "ITER_2010_ruta = r\"C:\\Users\\ADMIN\\Desktop\\Censos\\ITER_NALDBF10.dbf\"\n",
    "\n",
    "CVE_METRO_ruta = r\"C:\\Users\\ADMIN\\Desktop\\Ejercicio\\ClavesMetro.csv\"\n",
    "\n",
    "ITER_MUN_ruta = r\"C:\\Users\\ADMIN\\Desktop\\Ejercicio\\ITER_MUN.xlsx\"\n",
    "ITER_MUN_METRO_ruta = r\"C:\\Users\\ADMIN\\Desktop\\Ejercicio\\ITER_MUN_METRO.xlsx\"\n",
    "\n",
    "estadisticas_mun_metro_ruta = r\"C:\\Users\\ADMIN\\Desktop\\Ejercicio\\estadisticas_mun_metro.xlsx\""
   ]
  },
  {
   "cell_type": "code",
   "execution_count": 4,
   "id": "3b4f33be",
   "metadata": {},
   "outputs": [
    {
     "name": "stderr",
     "output_type": "stream",
     "text": [
      "C:\\Users\\ADMIN\\AppData\\Local\\Temp\\ipykernel_18052\\1865580838.py:17: SettingWithCopyWarning: \n",
      "A value is trying to be set on a copy of a slice from a DataFrame.\n",
      "Try using .loc[row_indexer,col_indexer] = value instead\n",
      "\n",
      "See the caveats in the documentation: https://pandas.pydata.org/pandas-docs/stable/user_guide/indexing.html#returning-a-view-versus-a-copy\n",
      "  ITER_2020_df_mun['CVEMUN'] = ITER_2020_df_mun.apply(homologate_mun_id, axis=1)\n",
      "C:\\Users\\ADMIN\\AppData\\Local\\Temp\\ipykernel_18052\\1865580838.py:18: SettingWithCopyWarning: \n",
      "A value is trying to be set on a copy of a slice from a DataFrame.\n",
      "Try using .loc[row_indexer,col_indexer] = value instead\n",
      "\n",
      "See the caveats in the documentation: https://pandas.pydata.org/pandas-docs/stable/user_guide/indexing.html#returning-a-view-versus-a-copy\n",
      "  ITER_2010_df_mun['CVEMUN'] = ITER_2010_df_mun.apply(homologate_mun_id, axis=1)\n"
     ]
    }
   ],
   "source": [
    "# Función para cargar datos de archivo DBF y convertirlos a DataFrame\n",
    "def load_dbf_to_dataframe(file_path):\n",
    "    table = DBF(file_path)\n",
    "    return pd.DataFrame(iter(table))\n",
    "\n",
    "ITER_2020_df = pd.read_csv(ITER_2020_ruta, dtype={'ENTIDAD': str, 'MUN': str, 'LOC': str, 'LATITUD': str, 'ALTITUD' : str})\n",
    "ITER_2010_df = load_dbf_to_dataframe(ITER_2010_ruta)\n",
    "\n",
    "# Selección de información municipal\n",
    "ITER_2020_df_mun = ITER_2020_df[ITER_2020_df['NOM_LOC'] == 'Total del Municipio']\n",
    "ITER_2010_df_mun = ITER_2010_df[ITER_2010_df['NOM_LOC'] == 'Total del Municipio']\n",
    "\n",
    "# Homologación de ID Municipal\n",
    "def homologate_mun_id(row):\n",
    "    return f\"{row['ENTIDAD']}{row['MUN']}\"\n",
    "\n",
    "ITER_2020_df_mun['CVEMUN'] = ITER_2020_df_mun.apply(homologate_mun_id, axis=1)\n",
    "ITER_2010_df_mun['CVEMUN'] = ITER_2010_df_mun.apply(homologate_mun_id, axis=1)"
   ]
  },
  {
   "cell_type": "code",
   "execution_count": 5,
   "id": "9ab0c2a9",
   "metadata": {},
   "outputs": [],
   "source": [
    "# Filtrar censos\n",
    "ITER_2020_df_F = ITER_2020_df_mun[['CVEMUN', 'POBTOT', 'VIVTOT', 'VIVPAR_DES']]\n",
    "ITER_2010_df_F = ITER_2010_df_mun[['CVEMUN', 'POBTOT', 'VIVTOT', 'VIVPAR_DES']]\n",
    "\n",
    "# Renombrar columnas de ITER_2020_df antes del merge para evitar conflictos\n",
    "ITER_2020_df_renamed = ITER_2020_df_F.rename(columns={'POBTOT': 'POPTOT2020', 'VIVTOT': 'VIVTOT2020', 'VIVPAR_DES': 'VIVPARDES2020'})\n",
    "ITER_2010_df_renamed = ITER_2010_df_F.rename(columns={'POBTOT': 'POPTOT2010', 'VIVTOT': 'VIVTOT2010', 'VIVPAR_DES': 'VIVPARDES2010'})\n",
    "\n",
    "ITER_2020_df_renamed['CVEMUN'] = ITER_2020_df_renamed['CVEMUN'].astype(str)\n",
    "ITER_2010_df_renamed['CVEMUN'] = ITER_2010_df_renamed['CVEMUN'].astype(str)\n",
    "                                                                       \n",
    "# Unir campos de los DataFrames por CVEMUN\n",
    "ITER_MUN = ITER_2020_df_renamed.merge(ITER_2010_df_renamed[['CVEMUN', 'POPTOT2010', 'VIVTOT2010', 'VIVPARDES2010']], on='CVEMUN', how='left')\n",
    "\n",
    "# Reordenar las columnas\n",
    "columns_order = ['CVEMUN', 'POPTOT2010', 'POPTOT2020', 'VIVTOT2010', 'VIVTOT2020', 'VIVPARDES2010', 'VIVPARDES2020']\n",
    "ITER_MUN = ITER_MUN[columns_order]\n",
    "\n",
    "# Exportar el DataFrame a un archivo Excel\n",
    "ITER_MUN.to_excel(ITER_MUN_ruta, index=False)\n",
    "\n",
    "# Releer el archivo Excel\n",
    "ITER_MUN_df = pd.read_excel(ITER_MUN_ruta)"
   ]
  },
  {
   "cell_type": "code",
   "execution_count": 6,
   "id": "b14858d9",
   "metadata": {
    "scrolled": true
   },
   "outputs": [
    {
     "name": "stdout",
     "output_type": "stream",
     "text": [
      "   CVEMUN  POPTOT2010  POPTOT2020  VIVTOT2010  VIVTOT2020  VIVPARDES2010  \\\n",
      "0    1001    797010.0      948990    247792.0      313256        36893.0   \n",
      "1    1005     99590.0      129929     30199.0       41550         5882.0   \n",
      "2    1011     35769.0       61997     13583.0       21458         4843.0   \n",
      "3    2001    466814.0      443807    168914.0      171203        25621.0   \n",
      "4    2002    936826.0     1049792    347015.0      385642        64419.0   \n",
      "\n",
      "   VIVPARDES2020  CVE_MET         NOM_MET             TIPO_MET  \n",
      "0          37113  01.1.01  Aguascalientes   Zona Metropolitana  \n",
      "1           5989  01.1.01  Aguascalientes   Zona Metropolitana  \n",
      "2           4587  01.1.01  Aguascalientes   Zona Metropolitana  \n",
      "3          17732  02.2.02        Ensenada  Metrópoli Municipal  \n",
      "4          40210  02.2.03        Mexicali  Metrópoli Municipal  \n"
     ]
    }
   ],
   "source": [
    "# Subir archivo con CVE_METRO desde un CSV\n",
    "CVE_METRO_df = pd.read_csv(CVE_METRO_ruta, dtype={'CVE_MET': str, 'CVEMUN': str})\n",
    "\n",
    "# Leer el archivo ITER_MUN\n",
    "ITER_MUN_df = pd.read_excel(ITER_MUN_ruta, dtype={'CVEMUN': str})\n",
    "\n",
    "# Añadir claves a DF\n",
    "ITER_MUN_METRO_df = ITER_MUN_df.merge(CVE_METRO_df[['CVEMUN', 'CVE_MET', 'NOM_MET', 'TIPO_MET']], on='CVEMUN', how='left')\n",
    "\n",
    "# FILTRAR MUNICIPIOS ZONAS METROPOLITANAS\n",
    "valores_filtro = CVE_METRO_df['CVEMUN'].unique()\n",
    "ITER_MUN_METRO_df = ITER_MUN_METRO_df[ITER_MUN_METRO_df['CVEMUN'].isin(valores_filtro)]\n",
    "\n",
    "# Guardar el DF base actualizado\n",
    "ITER_MUN_METRO_df.to_excel(ITER_MUN_METRO_ruta, index=False)\n",
    "\n",
    "# Releer el archivo Excel\n",
    "ITER_MUN_METRO_reloaded = pd.read_excel(ITER_MUN_METRO_ruta)\n",
    "\n",
    "# Verificar el DataFrame reloaded\n",
    "print(ITER_MUN_METRO_reloaded.head())"
   ]
  },
  {
   "cell_type": "code",
   "execution_count": 9,
   "id": "9cda1f9b",
   "metadata": {},
   "outputs": [
    {
     "name": "stdout",
     "output_type": "stream",
     "text": [
      "          NOM_MET  POPTOT2010  POPTOT2020  VIVTOT2010  VIVTOT2020\n",
      "0        Acapulco    789971.0      779566    293572.0      331319\n",
      "1        Acayucan    112996.0      114416     35177.0       41458\n",
      "2  Aguascalientes    932369.0     1140916    291574.0      376264\n",
      "3     Atitalaquia     53662.0       60151     15007.0       18776\n",
      "4         Caborca     90777.0       98244     30655.0       37193\n"
     ]
    }
   ],
   "source": [
    "# Agrupar por 'NOM_MET' y realizar las sumatorias\n",
    "grouped_df = ITER_MUN_METRO_reloaded.groupby('NOM_MET').agg({\n",
    "    'POPTOT2010': 'sum',\n",
    "    'POPTOT2020': 'sum',\n",
    "    'VIVTOT2010': 'sum',\n",
    "    'VIVTOT2020': 'sum'\n",
    "}).reset_index()\n",
    "\n",
    "# Guardar el DataFrame agrupado en un nuevo archivo Excel\n",
    "grouped_df.to_excel(estadisticas_mun_metro_ruta, index=False)\n",
    "\n",
    "# Verificar el DataFrame agrupado\n",
    "print(grouped_df.head())"
   ]
  },
  {
   "cell_type": "code",
   "execution_count": null,
   "id": "3c6c4868",
   "metadata": {},
   "outputs": [],
   "source": []
  }
 ],
 "metadata": {
  "kernelspec": {
   "display_name": "Python 3 (ipykernel)",
   "language": "python",
   "name": "python3"
  },
  "language_info": {
   "codemirror_mode": {
    "name": "ipython",
    "version": 3
   },
   "file_extension": ".py",
   "mimetype": "text/x-python",
   "name": "python",
   "nbconvert_exporter": "python",
   "pygments_lexer": "ipython3",
   "version": "3.11.3"
  }
 },
 "nbformat": 4,
 "nbformat_minor": 5
}
