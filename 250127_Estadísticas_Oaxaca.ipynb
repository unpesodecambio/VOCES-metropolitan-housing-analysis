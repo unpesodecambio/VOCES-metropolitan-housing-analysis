{
 "cells": [
  {
   "cell_type": "markdown",
   "id": "7b65608e-0657-461b-9306-a749670653ac",
   "metadata": {},
   "source": [
    "<h1>Código para extraer estadísticas generacionales de Oaxaca<h1/>"
   ]
  },
  {
   "cell_type": "code",
   "execution_count": 21,
   "id": "f8a86b07-1f1c-4a62-98c5-4075e86c78e6",
   "metadata": {},
   "outputs": [
    {
     "name": "stderr",
     "output_type": "stream",
     "text": [
      "C:\\Users\\quesa\\AppData\\Local\\Temp\\ipykernel_6348\\2002227179.py:38: DtypeWarning: Columns (6) have mixed types. Specify dtype option on import or set low_memory=False.\n",
      "  df = pd.read_csv(ruta)\n",
      "C:\\Users\\quesa\\AppData\\Local\\Temp\\ipykernel_6348\\2002227179.py:38: DtypeWarning: Columns (8) have mixed types. Specify dtype option on import or set low_memory=False.\n",
      "  df = pd.read_csv(ruta)\n"
     ]
    },
    {
     "name": "stdout",
     "output_type": "stream",
     "text": [
      "Los datos han sido exportados a: C:/Users/quesa/Desktop/Zona_Metro_Oaxaca.xlsx\n"
     ]
    }
   ],
   "source": [
    "import pandas as pd\n",
    "\n",
    "# Definir las rutas de los archivos\n",
    "archivos = {\n",
    "    \"1990\": \"C:/Users/quesa/Downloads/ITER_20XLS90.xls\",\n",
    "    \"1995\": \"C:/Users/quesa/Downloads/ITER_20XLS95.xls\",\n",
    "    \"2000\": \"C:/Users/quesa/Downloads/cgpv2000_iter_20.csv\",\n",
    "    \"2005\": \"C:/Users/quesa/Downloads/cpv2005_iter_20.csv\",\n",
    "    \"2010\": \"C:/Users/quesa/Downloads/iter_20_cpv2010.csv\",\n",
    "    \"2020\": \"C:/Users/quesa/Downloads/conjunto_de_datos_iter_20CSV20.csv\",\n",
    "}\n",
    "archivo_claves = \"C:/Users/quesa/Desktop/Ejercicio/ClavesMetro.csv\"\n",
    "\n",
    "# Leer las claves de municipios de la zona metropolitana y filtrar los que tienen 'Oaxaca' en NOM_MET\n",
    "claves_metro = pd.read_csv(archivo_claves)\n",
    "claves_metro = claves_metro[claves_metro['NOM_MET'].str.contains('Oaxaca', case=False, na=False)]\n",
    "claves_metro['CVEMUN'] = claves_metro['CVEMUN'].astype(str)\n",
    "\n",
    "# Diccionario de correspondencias entre columnas\n",
    "columnas_datos = {\n",
    "    \"1990\": {\"poblacion\": \"P_TOTAL\\t\", \"viviendas\": \"T_VIVHAB\\t\", \"ent\": \"ENTIDAD\", \"mun\": \"MUN\", \"loc\": \"LOC\\t\", \"nom_mun\": \"NOM_MUN\\t\"},\n",
    "    \"1995\": {\"poblacion\": \"POBTOTAL\", \"viviendas\": \"TOTVIVH\", \"ent\": \"ENTIDAD\", \"mun\": \"MUN\", \"loc\": \"LOC\\t\", \"nom_mun\": \"NOM_MUN\\t\"},\n",
    "    \"2000\": {\"poblacion\": \"pobtot\", \"viviendas\": \"totvivhab\", \"ent\": \"entidad\", \"mun\": \"mun\", \"loc\": \"loc\", \"nom_mun\": \"nom_mun\"},\n",
    "    \"2005\": {\"poblacion\": \"p_total\", \"viviendas\": \"t_vivhab\", \"ent\": \"entidad\", \"mun\": \"mun\", \"loc\": \"loc\", \"nom_mun\": \"nom_mun\"},\n",
    "    \"2010\": {\"poblacion\": \"pobtot\", \"viviendas\": \"vivtot\", \"ent\": \"entidad\", \"mun\": \"mun\", \"loc\": \"loc\", \"nom_mun\": \"nom_mun\"},\n",
    "    \"2020\": {\"poblacion\": \"POBTOT\", \"viviendas\": \"VIVTOT\", \"ent\": \"ENTIDAD\", \"mun\": \"MUN\", \"loc\": \"LOC\", \"nom_mun\": \"NOM_MUN\"},\n",
    "}\n",
    "\n",
    "# Crear un DataFrame vacío para almacenar los resultados combinados\n",
    "df_combinado = pd.DataFrame()\n",
    "\n",
    "# Procesar los datos de cada año\n",
    "for anio, ruta in archivos.items():\n",
    "    # Identificar formato del archivo\n",
    "    if ruta.endswith(\".xls\"):\n",
    "        df = pd.read_excel(ruta)\n",
    "    elif ruta.endswith(\".csv\"):\n",
    "        df = pd.read_csv(ruta)\n",
    "    \n",
    "    # Crear la columna CVEMUN para hacer el join\n",
    "    columnas = columnas_datos[anio]\n",
    "    df['ENTIDAD'] = df[columnas['ent']].astype(str).str.zfill(2)\n",
    "    df['MUN'] = df[columnas['mun']].astype(str).str.zfill(3)\n",
    "    df['CVEMUN'] = df['ENTIDAD'] + df['MUN']\n",
    "    \n",
    "    # Filtrar solo municipios de la zona metropolitana con 'Oaxaca' en NOM_MET\n",
    "    df_metro = df[df['CVEMUN'].isin(claves_metro['CVEMUN'])]\n",
    "    \n",
    "    # Filtrar por la columna de localidad (loc) donde sea '0000'\n",
    "    df_metro = df_metro[df_metro[columnas['loc']] == 0]\n",
    "    \n",
    "    # Seleccionar columnas relevantes, incluyendo NOM_MUN\n",
    "    df_metro = df_metro[['CVEMUN', columnas['nom_mun'], columnas['poblacion'], columnas['viviendas']]].rename(\n",
    "        columns={\n",
    "            columnas['nom_mun']: \"Nombre_Municipio\",\n",
    "            columnas['poblacion']: f\"{anio}_pob\",\n",
    "            columnas['viviendas']: f\"{anio}_viv\"\n",
    "        }\n",
    "    )\n",
    "    \n",
    "    # Unir los datos del año actual con el DataFrame combinado\n",
    "    if df_combinado.empty:\n",
    "        df_combinado = df_metro\n",
    "    else:\n",
    "        df_combinado = df_combinado.merge(df_metro, on=['CVEMUN', 'Nombre_Municipio'], how='outer')\n",
    "\n",
    "# Exportar los datos combinados a un archivo Excel\n",
    "output_file = \"C:/Users/quesa/Desktop/Zona_Metro_Oaxaca.xlsx\"\n",
    "df_combinado.to_excel(output_file, index=False)\n",
    "\n",
    "print(f\"Los datos han sido exportados a: {output_file}\")"
   ]
  },
  {
   "cell_type": "code",
   "execution_count": null,
   "id": "85e463c3-48fa-4825-a426-86df75b659cb",
   "metadata": {},
   "outputs": [],
   "source": []
  }
 ],
 "metadata": {
  "kernelspec": {
   "display_name": "Python 3 (ipykernel)",
   "language": "python",
   "name": "python3"
  },
  "language_info": {
   "codemirror_mode": {
    "name": "ipython",
    "version": 3
   },
   "file_extension": ".py",
   "mimetype": "text/x-python",
   "name": "python",
   "nbconvert_exporter": "python",
   "pygments_lexer": "ipython3",
   "version": "3.12.7"
  }
 },
 "nbformat": 4,
 "nbformat_minor": 5
}
